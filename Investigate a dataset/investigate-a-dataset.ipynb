{
 "cells": [
  {
   "cell_type": "markdown",
   "metadata": {},
   "source": [
    "# Project: Investigate a Dataset (No-show appointments)\n",
    "\n",
    "## Table of Contents\n",
    "<ul>\n",
    "<li><a href=\"#intro\">Introduction</a></li>\n",
    "<li><a href=\"#wrangling\">Data Wrangling</a></li>\n",
    "<li><a href=\"#eda\">Exploratory Data Analysis</a></li>\n",
    "<li><a href=\"#conclusions\">Conclusions</a></li>\n",
    "</ul>"
   ]
  },
  {
   "cell_type": "markdown",
   "metadata": {},
   "source": [
    "<a id='intro'></a>\n",
    "## Introduction\n",
    "\n",
    "> This dataset, `noshowappointments-kagglev2-may-2016.csv` focuses on whether or not patients show up for appointments, data was collected from 100k medical appointments in Brazil.  With a total of 11283 entries, and 14 columns/variables. Most of these variables are self-explanatory, some additional details on some variables that should be of importace include;\n",
    ">\n",
    "> - 'Scholarship' indicates whether or not the patient is enrolled in brasilian welfareprogram  __[Bosla Familia](http://www.google.com/url?q=https://en.wikipedia.org/wiki/Bolsa_Fam%25C3%25ADlia&sa=D&ust=1532469042119000)__\n",
    "   \n",
    "> - 'Neighborhood' indicates the location of the hospital\n",
    "> - 'ScheduleDay' tells us the day the patient set up an appointment\n",
    "> - Equally important is the fact that on the 'No-show' column, 'No' indicates the patient showed up and 'Yes' if they didn't.\n",
    ">\n",
    ">__[Source](https://s3.amazonaws.com/video.udacity-data.com/topher/2018/July/5b57919a_data-set-options/data-set-options.pdf)__\n",
    "\n",
    "### Variables\n",
    ">\n",
    "> This variables are displayed as currently in the dataset.\n",
    "><ol>\n",
    "><li> PatientId </li>\n",
    "><li> AppointmentID</li>    \n",
    "><li> Gender </li>\n",
    "><li> ScheduledDay</li>\n",
    "><li> AppointmentDay </li>\n",
    "><li> Age</li>\n",
    "><li> Neighbourhood</li>\n",
    "><li> Scholarship</li>\n",
    "><li> Hipertension</li>\n",
    "><li> Diabetes</li>\n",
    "><li> Alcoholism</li>\n",
    "><li> Handcap</li>\n",
    "><li> SMS_received</li>\n",
    "><li> No-show</li>\n",
    "></ol>\n",
    "### Questions\n",
    "> Bellow is a list of the questions we will be trying to answer given our dataset.\n",
    ">- Does the gender have any measure influence on the patient showing up or not?\n",
    ">- Does the wiating period between scheduling and appointment time affect possibility of showing up or not?\n",
    ">- Is patient's age of any noticeable influence on the patient showing up?\n",
    ">- Does the neighborhood affect the rate of patients showing up?\n",
    ">- Is patient's condition affecting the show up rate?\n",
    ">- Does patient's deases affect show up rate?\n",
    ">- Last but not the least, is there any measure difference in showing up between patients who received and SMS and those who didn't?"
   ]
  },
  {
   "cell_type": "markdown",
   "metadata": {},
   "source": [
    "Below we will import all required libaries in other to properly investigate our dataset\n"
   ]
  },
  {
   "cell_type": "code",
   "execution_count": 154,
   "metadata": {},
   "outputs": [],
   "source": [
    "#importing pandas\n",
    "import pandas as pd\n",
    "\n",
    "#importing numpy\n",
    "import numpy as np\n",
    "\n",
    "#importing datetime\n",
    "import datetime as dt\n",
    "\n",
    "#importing seaborn\n",
    "import seaborn as sns \n",
    "\n",
    "#importing matplotlib\n",
    "import matplotlib.pyplot as plt\n",
    "\n",
    "#Inline statement to display plots in notebook\n",
    "%matplotlib inline"
   ]
  },
  {
   "cell_type": "markdown",
   "metadata": {},
   "source": [
    "<a id='wrangling'></a>\n",
    "## Data Wrangling\n",
    "\n",
    ">Now we will take a look at our data and check it's actual cleanliness state and also what variables we will be focusing on for our investigation, and most importantly that will permit us to answer our questions. \n",
    "\n",
    "### General Properties"
   ]
  },
  {
   "cell_type": "code",
   "execution_count": 359,
   "metadata": {},
   "outputs": [
    {
     "data": {
      "text/html": [
       "<div>\n",
       "<style scoped>\n",
       "    .dataframe tbody tr th:only-of-type {\n",
       "        vertical-align: middle;\n",
       "    }\n",
       "\n",
       "    .dataframe tbody tr th {\n",
       "        vertical-align: top;\n",
       "    }\n",
       "\n",
       "    .dataframe thead th {\n",
       "        text-align: right;\n",
       "    }\n",
       "</style>\n",
       "<table border=\"1\" class=\"dataframe\">\n",
       "  <thead>\n",
       "    <tr style=\"text-align: right;\">\n",
       "      <th></th>\n",
       "      <th>PatientId</th>\n",
       "      <th>AppointmentID</th>\n",
       "      <th>Gender</th>\n",
       "      <th>ScheduledDay</th>\n",
       "      <th>AppointmentDay</th>\n",
       "      <th>Age</th>\n",
       "      <th>Neighbourhood</th>\n",
       "      <th>Scholarship</th>\n",
       "      <th>Hipertension</th>\n",
       "      <th>Diabetes</th>\n",
       "      <th>Alcoholism</th>\n",
       "      <th>Handcap</th>\n",
       "      <th>SMS_received</th>\n",
       "      <th>No-show</th>\n",
       "    </tr>\n",
       "  </thead>\n",
       "  <tbody>\n",
       "    <tr>\n",
       "      <th>59611</th>\n",
       "      <td>3.246493e+14</td>\n",
       "      <td>5690120</td>\n",
       "      <td>F</td>\n",
       "      <td>2016-05-12T09:31:14Z</td>\n",
       "      <td>2016-05-12T00:00:00Z</td>\n",
       "      <td>47</td>\n",
       "      <td>SÃO JOSÉ</td>\n",
       "      <td>0</td>\n",
       "      <td>1</td>\n",
       "      <td>1</td>\n",
       "      <td>1</td>\n",
       "      <td>0</td>\n",
       "      <td>0</td>\n",
       "      <td>No</td>\n",
       "    </tr>\n",
       "    <tr>\n",
       "      <th>62814</th>\n",
       "      <td>6.278242e+13</td>\n",
       "      <td>5733534</td>\n",
       "      <td>F</td>\n",
       "      <td>2016-05-24T14:00:02Z</td>\n",
       "      <td>2016-05-24T00:00:00Z</td>\n",
       "      <td>48</td>\n",
       "      <td>JARDIM CAMBURI</td>\n",
       "      <td>0</td>\n",
       "      <td>0</td>\n",
       "      <td>0</td>\n",
       "      <td>0</td>\n",
       "      <td>0</td>\n",
       "      <td>0</td>\n",
       "      <td>Yes</td>\n",
       "    </tr>\n",
       "    <tr>\n",
       "      <th>9356</th>\n",
       "      <td>9.744384e+14</td>\n",
       "      <td>5678420</td>\n",
       "      <td>F</td>\n",
       "      <td>2016-05-10T08:29:23Z</td>\n",
       "      <td>2016-05-10T00:00:00Z</td>\n",
       "      <td>59</td>\n",
       "      <td>SANTOS DUMONT</td>\n",
       "      <td>0</td>\n",
       "      <td>1</td>\n",
       "      <td>0</td>\n",
       "      <td>0</td>\n",
       "      <td>0</td>\n",
       "      <td>0</td>\n",
       "      <td>Yes</td>\n",
       "    </tr>\n",
       "    <tr>\n",
       "      <th>19247</th>\n",
       "      <td>5.543879e+14</td>\n",
       "      <td>5643633</td>\n",
       "      <td>F</td>\n",
       "      <td>2016-05-02T07:41:09Z</td>\n",
       "      <td>2016-05-02T00:00:00Z</td>\n",
       "      <td>2</td>\n",
       "      <td>SANTO ANTÔNIO</td>\n",
       "      <td>0</td>\n",
       "      <td>0</td>\n",
       "      <td>0</td>\n",
       "      <td>0</td>\n",
       "      <td>0</td>\n",
       "      <td>0</td>\n",
       "      <td>No</td>\n",
       "    </tr>\n",
       "    <tr>\n",
       "      <th>47809</th>\n",
       "      <td>3.241459e+12</td>\n",
       "      <td>5574374</td>\n",
       "      <td>M</td>\n",
       "      <td>2016-04-12T14:47:25Z</td>\n",
       "      <td>2016-05-05T00:00:00Z</td>\n",
       "      <td>12</td>\n",
       "      <td>MARUÍPE</td>\n",
       "      <td>0</td>\n",
       "      <td>0</td>\n",
       "      <td>0</td>\n",
       "      <td>0</td>\n",
       "      <td>0</td>\n",
       "      <td>1</td>\n",
       "      <td>No</td>\n",
       "    </tr>\n",
       "    <tr>\n",
       "      <th>70964</th>\n",
       "      <td>2.679223e+13</td>\n",
       "      <td>5343286</td>\n",
       "      <td>F</td>\n",
       "      <td>2016-02-12T15:03:15Z</td>\n",
       "      <td>2016-05-09T00:00:00Z</td>\n",
       "      <td>57</td>\n",
       "      <td>TABUAZEIRO</td>\n",
       "      <td>0</td>\n",
       "      <td>1</td>\n",
       "      <td>0</td>\n",
       "      <td>0</td>\n",
       "      <td>0</td>\n",
       "      <td>0</td>\n",
       "      <td>No</td>\n",
       "    </tr>\n",
       "    <tr>\n",
       "      <th>85230</th>\n",
       "      <td>4.886351e+14</td>\n",
       "      <td>5767528</td>\n",
       "      <td>M</td>\n",
       "      <td>2016-06-02T18:21:55Z</td>\n",
       "      <td>2016-06-02T00:00:00Z</td>\n",
       "      <td>38</td>\n",
       "      <td>PONTAL DE CAMBURI</td>\n",
       "      <td>0</td>\n",
       "      <td>0</td>\n",
       "      <td>0</td>\n",
       "      <td>0</td>\n",
       "      <td>0</td>\n",
       "      <td>0</td>\n",
       "      <td>No</td>\n",
       "    </tr>\n",
       "    <tr>\n",
       "      <th>89844</th>\n",
       "      <td>3.816828e+10</td>\n",
       "      <td>5734983</td>\n",
       "      <td>F</td>\n",
       "      <td>2016-05-24T16:35:46Z</td>\n",
       "      <td>2016-06-02T00:00:00Z</td>\n",
       "      <td>62</td>\n",
       "      <td>JARDIM CAMBURI</td>\n",
       "      <td>0</td>\n",
       "      <td>0</td>\n",
       "      <td>0</td>\n",
       "      <td>0</td>\n",
       "      <td>0</td>\n",
       "      <td>1</td>\n",
       "      <td>No</td>\n",
       "    </tr>\n",
       "    <tr>\n",
       "      <th>100744</th>\n",
       "      <td>8.972433e+13</td>\n",
       "      <td>5621489</td>\n",
       "      <td>F</td>\n",
       "      <td>2016-04-26T10:22:33Z</td>\n",
       "      <td>2016-06-06T00:00:00Z</td>\n",
       "      <td>68</td>\n",
       "      <td>TABUAZEIRO</td>\n",
       "      <td>0</td>\n",
       "      <td>1</td>\n",
       "      <td>0</td>\n",
       "      <td>0</td>\n",
       "      <td>0</td>\n",
       "      <td>0</td>\n",
       "      <td>No</td>\n",
       "    </tr>\n",
       "    <tr>\n",
       "      <th>14611</th>\n",
       "      <td>9.334849e+11</td>\n",
       "      <td>5564036</td>\n",
       "      <td>M</td>\n",
       "      <td>2016-04-11T07:09:08Z</td>\n",
       "      <td>2016-05-05T00:00:00Z</td>\n",
       "      <td>19</td>\n",
       "      <td>SÃO CRISTÓVÃO</td>\n",
       "      <td>0</td>\n",
       "      <td>0</td>\n",
       "      <td>0</td>\n",
       "      <td>0</td>\n",
       "      <td>0</td>\n",
       "      <td>1</td>\n",
       "      <td>No</td>\n",
       "    </tr>\n",
       "  </tbody>\n",
       "</table>\n",
       "</div>"
      ],
      "text/plain": [
       "           PatientId  AppointmentID Gender          ScheduledDay  \\\n",
       "59611   3.246493e+14        5690120      F  2016-05-12T09:31:14Z   \n",
       "62814   6.278242e+13        5733534      F  2016-05-24T14:00:02Z   \n",
       "9356    9.744384e+14        5678420      F  2016-05-10T08:29:23Z   \n",
       "19247   5.543879e+14        5643633      F  2016-05-02T07:41:09Z   \n",
       "47809   3.241459e+12        5574374      M  2016-04-12T14:47:25Z   \n",
       "70964   2.679223e+13        5343286      F  2016-02-12T15:03:15Z   \n",
       "85230   4.886351e+14        5767528      M  2016-06-02T18:21:55Z   \n",
       "89844   3.816828e+10        5734983      F  2016-05-24T16:35:46Z   \n",
       "100744  8.972433e+13        5621489      F  2016-04-26T10:22:33Z   \n",
       "14611   9.334849e+11        5564036      M  2016-04-11T07:09:08Z   \n",
       "\n",
       "              AppointmentDay  Age      Neighbourhood  Scholarship  \\\n",
       "59611   2016-05-12T00:00:00Z   47           SÃO JOSÉ            0   \n",
       "62814   2016-05-24T00:00:00Z   48     JARDIM CAMBURI            0   \n",
       "9356    2016-05-10T00:00:00Z   59      SANTOS DUMONT            0   \n",
       "19247   2016-05-02T00:00:00Z    2      SANTO ANTÔNIO            0   \n",
       "47809   2016-05-05T00:00:00Z   12            MARUÍPE            0   \n",
       "70964   2016-05-09T00:00:00Z   57         TABUAZEIRO            0   \n",
       "85230   2016-06-02T00:00:00Z   38  PONTAL DE CAMBURI            0   \n",
       "89844   2016-06-02T00:00:00Z   62     JARDIM CAMBURI            0   \n",
       "100744  2016-06-06T00:00:00Z   68         TABUAZEIRO            0   \n",
       "14611   2016-05-05T00:00:00Z   19      SÃO CRISTÓVÃO            0   \n",
       "\n",
       "        Hipertension  Diabetes  Alcoholism  Handcap  SMS_received No-show  \n",
       "59611              1         1           1        0             0      No  \n",
       "62814              0         0           0        0             0     Yes  \n",
       "9356               1         0           0        0             0     Yes  \n",
       "19247              0         0           0        0             0      No  \n",
       "47809              0         0           0        0             1      No  \n",
       "70964              1         0           0        0             0      No  \n",
       "85230              0         0           0        0             0      No  \n",
       "89844              0         0           0        0             1      No  \n",
       "100744             1         0           0        0             0      No  \n",
       "14611              0         0           0        0             1      No  "
      ]
     },
     "execution_count": 359,
     "metadata": {},
     "output_type": "execute_result"
    }
   ],
   "source": [
    "# Loading our data into a dataframe\n",
    "df = pd.read_csv('noshowappointments-kagglev2-may-2016.csv')\n",
    "\n",
    "#taking a look at our data to see if everything was properly loaded\n",
    "df.sample(n=10)"
   ]
  },
  {
   "cell_type": "markdown",
   "metadata": {},
   "source": [
    ">Now we will look at some general information about our data, such as the number of rows and columns and the datatypes of the columns and their index."
   ]
  },
  {
   "cell_type": "code",
   "execution_count": 360,
   "metadata": {
    "scrolled": false
   },
   "outputs": [
    {
     "name": "stdout",
     "output_type": "stream",
     "text": [
      "<class 'pandas.core.frame.DataFrame'>\n",
      "RangeIndex: 110527 entries, 0 to 110526\n",
      "Data columns (total 14 columns):\n",
      " #   Column          Non-Null Count   Dtype  \n",
      "---  ------          --------------   -----  \n",
      " 0   PatientId       110527 non-null  float64\n",
      " 1   AppointmentID   110527 non-null  int64  \n",
      " 2   Gender          110527 non-null  object \n",
      " 3   ScheduledDay    110527 non-null  object \n",
      " 4   AppointmentDay  110527 non-null  object \n",
      " 5   Age             110527 non-null  int64  \n",
      " 6   Neighbourhood   110527 non-null  object \n",
      " 7   Scholarship     110527 non-null  int64  \n",
      " 8   Hipertension    110527 non-null  int64  \n",
      " 9   Diabetes        110527 non-null  int64  \n",
      " 10  Alcoholism      110527 non-null  int64  \n",
      " 11  Handcap         110527 non-null  int64  \n",
      " 12  SMS_received    110527 non-null  int64  \n",
      " 13  No-show         110527 non-null  object \n",
      "dtypes: float64(1), int64(8), object(5)\n",
      "memory usage: 11.8+ MB\n"
     ]
    }
   ],
   "source": [
    "#checking information on dataframe\n",
    "df.info()"
   ]
  },
  {
   "cell_type": "markdown",
   "metadata": {},
   "source": [
    ">From the above it confirms that our dataset has no NaN values"
   ]
  },
  {
   "cell_type": "markdown",
   "metadata": {},
   "source": [
    ">We will take a look at the unique values in `Schorlarship, Hipertension, Diabetes, Alcoholism, Handicap, SMS_received` in other to have a clear idea of the kind of values we are dealing with, as these columns will play a measure role in answering our questions.  "
   ]
  },
  {
   "cell_type": "code",
   "execution_count": 361,
   "metadata": {},
   "outputs": [
    {
     "name": "stdout",
     "output_type": "stream",
     "text": [
      "Unique Values in Scholarship: [0 1]\n",
      "Unique Values in Hypertension: [1 0]\n",
      "Unique Values in Diabetes: [0 1]\n",
      "Unique Values in Alcoholism: [0 1]\n",
      "Unique Values in Handicap: [0 1 2 3 4]\n",
      "Unique Values in SMS_received: [0 1]\n"
     ]
    }
   ],
   "source": [
    "#checking unique values\n",
    "print('Unique Values in Scholarship: {}'.format(df.Scholarship.unique()))\n",
    "print('Unique Values in Hypertension: {}'.format(df.Hipertension.unique()))\n",
    "print('Unique Values in Diabetes: {}'.format(df.Diabetes.unique()))\n",
    "print('Unique Values in Alcoholism: {}'.format(df.Alcoholism.unique()))      \n",
    "print('Unique Values in Handicap: {}'.format(df.Handcap.unique()))\n",
    "print('Unique Values in SMS_received: {}'.format(df.SMS_received.unique()))      "
   ]
  },
  {
   "cell_type": "markdown",
   "metadata": {},
   "source": [
    ">Now we will proceed in checking for any duplicates."
   ]
  },
  {
   "cell_type": "code",
   "execution_count": 362,
   "metadata": {},
   "outputs": [
    {
     "data": {
      "text/plain": [
       "0"
      ]
     },
     "execution_count": 362,
     "metadata": {},
     "output_type": "execute_result"
    }
   ],
   "source": [
    "#checking for duplicates in rows\n",
    "sum(df.duplicated())"
   ]
  },
  {
   "cell_type": "markdown",
   "metadata": {},
   "source": [
    ">It shows that our dataset has no duplicates in it.\n",
    ">\n",
    ">It will be a good idea to also check for duplicate values in 'AppointmentID' column. to make sure there's no duplicate in that field, as a duplicate will indicate an error in one, and both rows will need to be dropped.\n"
   ]
  },
  {
   "cell_type": "code",
   "execution_count": 363,
   "metadata": {},
   "outputs": [
    {
     "data": {
      "text/plain": [
       "0"
      ]
     },
     "execution_count": 363,
     "metadata": {},
     "output_type": "execute_result"
    }
   ],
   "source": [
    "sum(df['AppointmentID'].duplicated())"
   ]
  },
  {
   "cell_type": "markdown",
   "metadata": {},
   "source": [
    ">Now we are sure there's no duplicate in this column, we can proceed in doing some cleaning and trim our dataset to fit the analysis.\n",
    "> **Tip**: You should _not_ perform too many operations in each cell. Create cells freely to explore your data. One option that you can take with this project is to do a lot of explorations in an initial notebook. These don't have to be organized, but make sure you use enough comments to understand the purpose of each code cell. Then, after you're done with your analysis, create a duplicate notebook where you will trim the excess and organize your steps so that you have a flowing, cohesive report.\n",
    "\n",
    "\n",
    "### Data Cleaning \n",
    ">-  First we notice there are some spelling errors(typo's) in our columns, so we will begin by correcting those.\n",
    ">-  We will change the datatypes for 'AppointmentDay' and 'ScheduleDay' to datetime.\n",
    ">-  Since Scheduling date must be before or on the same date as appointment, we will check to see if there's any error regarding this.\n",
    ">-  In addition we shall make sure our ages are realistic.\n",
    ">-  Also based on the analysis we are about to perform, we won't be needing the 'PatientId' and 'AppointmentID' as they won't be of use in answering our questions."
   ]
  },
  {
   "cell_type": "code",
   "execution_count": 364,
   "metadata": {},
   "outputs": [
    {
     "data": {
      "text/html": [
       "<div>\n",
       "<style scoped>\n",
       "    .dataframe tbody tr th:only-of-type {\n",
       "        vertical-align: middle;\n",
       "    }\n",
       "\n",
       "    .dataframe tbody tr th {\n",
       "        vertical-align: top;\n",
       "    }\n",
       "\n",
       "    .dataframe thead th {\n",
       "        text-align: right;\n",
       "    }\n",
       "</style>\n",
       "<table border=\"1\" class=\"dataframe\">\n",
       "  <thead>\n",
       "    <tr style=\"text-align: right;\">\n",
       "      <th></th>\n",
       "      <th>PatientId</th>\n",
       "      <th>AppointmentID</th>\n",
       "      <th>Gender</th>\n",
       "      <th>ScheduledDay</th>\n",
       "      <th>AppointmentDay</th>\n",
       "      <th>Age</th>\n",
       "      <th>Neighborhood</th>\n",
       "      <th>Scholarship</th>\n",
       "      <th>Hypertension</th>\n",
       "      <th>Diabetes</th>\n",
       "      <th>Alcoholism</th>\n",
       "      <th>Handicap</th>\n",
       "      <th>SMS_received</th>\n",
       "      <th>No-show</th>\n",
       "    </tr>\n",
       "  </thead>\n",
       "  <tbody>\n",
       "    <tr>\n",
       "      <th>0</th>\n",
       "      <td>2.987250e+13</td>\n",
       "      <td>5642903</td>\n",
       "      <td>F</td>\n",
       "      <td>2016-04-29 18:38:08</td>\n",
       "      <td>2016-04-29</td>\n",
       "      <td>62</td>\n",
       "      <td>JARDIM DA PENHA</td>\n",
       "      <td>0</td>\n",
       "      <td>1</td>\n",
       "      <td>0</td>\n",
       "      <td>0</td>\n",
       "      <td>0</td>\n",
       "      <td>0</td>\n",
       "      <td>No</td>\n",
       "    </tr>\n",
       "    <tr>\n",
       "      <th>1</th>\n",
       "      <td>5.589978e+14</td>\n",
       "      <td>5642503</td>\n",
       "      <td>M</td>\n",
       "      <td>2016-04-29 16:08:27</td>\n",
       "      <td>2016-04-29</td>\n",
       "      <td>56</td>\n",
       "      <td>JARDIM DA PENHA</td>\n",
       "      <td>0</td>\n",
       "      <td>0</td>\n",
       "      <td>0</td>\n",
       "      <td>0</td>\n",
       "      <td>0</td>\n",
       "      <td>0</td>\n",
       "      <td>No</td>\n",
       "    </tr>\n",
       "    <tr>\n",
       "      <th>2</th>\n",
       "      <td>4.262962e+12</td>\n",
       "      <td>5642549</td>\n",
       "      <td>F</td>\n",
       "      <td>2016-04-29 16:19:04</td>\n",
       "      <td>2016-04-29</td>\n",
       "      <td>62</td>\n",
       "      <td>MATA DA PRAIA</td>\n",
       "      <td>0</td>\n",
       "      <td>0</td>\n",
       "      <td>0</td>\n",
       "      <td>0</td>\n",
       "      <td>0</td>\n",
       "      <td>0</td>\n",
       "      <td>No</td>\n",
       "    </tr>\n",
       "    <tr>\n",
       "      <th>3</th>\n",
       "      <td>8.679512e+11</td>\n",
       "      <td>5642828</td>\n",
       "      <td>F</td>\n",
       "      <td>2016-04-29 17:29:31</td>\n",
       "      <td>2016-04-29</td>\n",
       "      <td>8</td>\n",
       "      <td>PONTAL DE CAMBURI</td>\n",
       "      <td>0</td>\n",
       "      <td>0</td>\n",
       "      <td>0</td>\n",
       "      <td>0</td>\n",
       "      <td>0</td>\n",
       "      <td>0</td>\n",
       "      <td>No</td>\n",
       "    </tr>\n",
       "    <tr>\n",
       "      <th>4</th>\n",
       "      <td>8.841186e+12</td>\n",
       "      <td>5642494</td>\n",
       "      <td>F</td>\n",
       "      <td>2016-04-29 16:07:23</td>\n",
       "      <td>2016-04-29</td>\n",
       "      <td>56</td>\n",
       "      <td>JARDIM DA PENHA</td>\n",
       "      <td>0</td>\n",
       "      <td>1</td>\n",
       "      <td>1</td>\n",
       "      <td>0</td>\n",
       "      <td>0</td>\n",
       "      <td>0</td>\n",
       "      <td>No</td>\n",
       "    </tr>\n",
       "  </tbody>\n",
       "</table>\n",
       "</div>"
      ],
      "text/plain": [
       "      PatientId  AppointmentID Gender        ScheduledDay AppointmentDay  Age  \\\n",
       "0  2.987250e+13        5642903      F 2016-04-29 18:38:08     2016-04-29   62   \n",
       "1  5.589978e+14        5642503      M 2016-04-29 16:08:27     2016-04-29   56   \n",
       "2  4.262962e+12        5642549      F 2016-04-29 16:19:04     2016-04-29   62   \n",
       "3  8.679512e+11        5642828      F 2016-04-29 17:29:31     2016-04-29    8   \n",
       "4  8.841186e+12        5642494      F 2016-04-29 16:07:23     2016-04-29   56   \n",
       "\n",
       "        Neighborhood  Scholarship  Hypertension  Diabetes  Alcoholism  \\\n",
       "0    JARDIM DA PENHA            0             1         0           0   \n",
       "1    JARDIM DA PENHA            0             0         0           0   \n",
       "2      MATA DA PRAIA            0             0         0           0   \n",
       "3  PONTAL DE CAMBURI            0             0         0           0   \n",
       "4    JARDIM DA PENHA            0             1         1           0   \n",
       "\n",
       "   Handicap  SMS_received No-show  \n",
       "0         0             0      No  \n",
       "1         0             0      No  \n",
       "2         0             0      No  \n",
       "3         0             0      No  \n",
       "4         0             0      No  "
      ]
     },
     "execution_count": 364,
     "metadata": {},
     "output_type": "execute_result"
    }
   ],
   "source": [
    "# After discussing the structure of the data and any problems that need to be\n",
    "#   cleaned, perform those cleaning steps in the second part of this section.\n",
    "#Renaming some columns\n",
    "df = df.rename(columns={'Neighbourhood': 'Neighborhood','Hipertension': 'Hypertension','Handcap':'Handicap'})\n",
    "\n",
    "#Changing datatypes\n",
    "df['AppointmentDay'] = df['AppointmentDay'].astype('datetime64')\n",
    "\n",
    "df['ScheduledDay'] = df['ScheduledDay'].astype('datetime64')\n",
    "\n",
    "#we shall now check recent changes made\n",
    "df.head()"
   ]
  },
  {
   "cell_type": "code",
   "execution_count": 365,
   "metadata": {},
   "outputs": [
    {
     "name": "stdout",
     "output_type": "stream",
     "text": [
      "<class 'pandas.core.frame.DataFrame'>\n",
      "RangeIndex: 110527 entries, 0 to 110526\n",
      "Data columns (total 14 columns):\n",
      " #   Column          Non-Null Count   Dtype         \n",
      "---  ------          --------------   -----         \n",
      " 0   PatientId       110527 non-null  float64       \n",
      " 1   AppointmentID   110527 non-null  int64         \n",
      " 2   Gender          110527 non-null  object        \n",
      " 3   ScheduledDay    110527 non-null  datetime64[ns]\n",
      " 4   AppointmentDay  110527 non-null  datetime64[ns]\n",
      " 5   Age             110527 non-null  int64         \n",
      " 6   Neighborhood    110527 non-null  object        \n",
      " 7   Scholarship     110527 non-null  int64         \n",
      " 8   Hypertension    110527 non-null  int64         \n",
      " 9   Diabetes        110527 non-null  int64         \n",
      " 10  Alcoholism      110527 non-null  int64         \n",
      " 11  Handicap        110527 non-null  int64         \n",
      " 12  SMS_received    110527 non-null  int64         \n",
      " 13  No-show         110527 non-null  object        \n",
      "dtypes: datetime64[ns](2), float64(1), int64(8), object(3)\n",
      "memory usage: 11.8+ MB\n"
     ]
    }
   ],
   "source": [
    "df.info()"
   ]
  },
  {
   "cell_type": "markdown",
   "metadata": {},
   "source": [
    ">We shall then proceed in checking any abnormalities between scheduling and appointment dates."
   ]
  },
  {
   "cell_type": "code",
   "execution_count": 366,
   "metadata": {},
   "outputs": [
    {
     "name": "stdout",
     "output_type": "stream",
     "text": [
      "There are 38568 records where appointment day is before scheduled day\n"
     ]
    }
   ],
   "source": [
    "print(\"There are {} records where appointment day is before scheduled day\".format(df[(df['AppointmentDay']-df['ScheduledDay']).dt.days < 0].shape[0]))"
   ]
  },
  {
   "cell_type": "markdown",
   "metadata": {},
   "source": [
    ">The above shows that there's some error or possible exchange between schedule date and appointment date. or a possible error due to the absence of time in the appointment date.\n",
    ">\n",
    ">We shall first take a look at these records to figure out what error it could be."
   ]
  },
  {
   "cell_type": "code",
   "execution_count": 367,
   "metadata": {
    "scrolled": true
   },
   "outputs": [
    {
     "data": {
      "text/html": [
       "<div>\n",
       "<style scoped>\n",
       "    .dataframe tbody tr th:only-of-type {\n",
       "        vertical-align: middle;\n",
       "    }\n",
       "\n",
       "    .dataframe tbody tr th {\n",
       "        vertical-align: top;\n",
       "    }\n",
       "\n",
       "    .dataframe thead th {\n",
       "        text-align: right;\n",
       "    }\n",
       "</style>\n",
       "<table border=\"1\" class=\"dataframe\">\n",
       "  <thead>\n",
       "    <tr style=\"text-align: right;\">\n",
       "      <th></th>\n",
       "      <th>PatientId</th>\n",
       "      <th>AppointmentID</th>\n",
       "      <th>Gender</th>\n",
       "      <th>ScheduledDay</th>\n",
       "      <th>AppointmentDay</th>\n",
       "      <th>Age</th>\n",
       "      <th>Neighborhood</th>\n",
       "      <th>Scholarship</th>\n",
       "      <th>Hypertension</th>\n",
       "      <th>Diabetes</th>\n",
       "      <th>Alcoholism</th>\n",
       "      <th>Handicap</th>\n",
       "      <th>SMS_received</th>\n",
       "      <th>No-show</th>\n",
       "    </tr>\n",
       "  </thead>\n",
       "  <tbody>\n",
       "    <tr>\n",
       "      <th>0</th>\n",
       "      <td>2.987250e+13</td>\n",
       "      <td>5642903</td>\n",
       "      <td>F</td>\n",
       "      <td>2016-04-29 18:38:08</td>\n",
       "      <td>2016-04-29</td>\n",
       "      <td>62</td>\n",
       "      <td>JARDIM DA PENHA</td>\n",
       "      <td>0</td>\n",
       "      <td>1</td>\n",
       "      <td>0</td>\n",
       "      <td>0</td>\n",
       "      <td>0</td>\n",
       "      <td>0</td>\n",
       "      <td>No</td>\n",
       "    </tr>\n",
       "    <tr>\n",
       "      <th>1</th>\n",
       "      <td>5.589978e+14</td>\n",
       "      <td>5642503</td>\n",
       "      <td>M</td>\n",
       "      <td>2016-04-29 16:08:27</td>\n",
       "      <td>2016-04-29</td>\n",
       "      <td>56</td>\n",
       "      <td>JARDIM DA PENHA</td>\n",
       "      <td>0</td>\n",
       "      <td>0</td>\n",
       "      <td>0</td>\n",
       "      <td>0</td>\n",
       "      <td>0</td>\n",
       "      <td>0</td>\n",
       "      <td>No</td>\n",
       "    </tr>\n",
       "    <tr>\n",
       "      <th>2</th>\n",
       "      <td>4.262962e+12</td>\n",
       "      <td>5642549</td>\n",
       "      <td>F</td>\n",
       "      <td>2016-04-29 16:19:04</td>\n",
       "      <td>2016-04-29</td>\n",
       "      <td>62</td>\n",
       "      <td>MATA DA PRAIA</td>\n",
       "      <td>0</td>\n",
       "      <td>0</td>\n",
       "      <td>0</td>\n",
       "      <td>0</td>\n",
       "      <td>0</td>\n",
       "      <td>0</td>\n",
       "      <td>No</td>\n",
       "    </tr>\n",
       "    <tr>\n",
       "      <th>3</th>\n",
       "      <td>8.679512e+11</td>\n",
       "      <td>5642828</td>\n",
       "      <td>F</td>\n",
       "      <td>2016-04-29 17:29:31</td>\n",
       "      <td>2016-04-29</td>\n",
       "      <td>8</td>\n",
       "      <td>PONTAL DE CAMBURI</td>\n",
       "      <td>0</td>\n",
       "      <td>0</td>\n",
       "      <td>0</td>\n",
       "      <td>0</td>\n",
       "      <td>0</td>\n",
       "      <td>0</td>\n",
       "      <td>No</td>\n",
       "    </tr>\n",
       "    <tr>\n",
       "      <th>4</th>\n",
       "      <td>8.841186e+12</td>\n",
       "      <td>5642494</td>\n",
       "      <td>F</td>\n",
       "      <td>2016-04-29 16:07:23</td>\n",
       "      <td>2016-04-29</td>\n",
       "      <td>56</td>\n",
       "      <td>JARDIM DA PENHA</td>\n",
       "      <td>0</td>\n",
       "      <td>1</td>\n",
       "      <td>1</td>\n",
       "      <td>0</td>\n",
       "      <td>0</td>\n",
       "      <td>0</td>\n",
       "      <td>No</td>\n",
       "    </tr>\n",
       "    <tr>\n",
       "      <th>8</th>\n",
       "      <td>5.639473e+13</td>\n",
       "      <td>5638447</td>\n",
       "      <td>F</td>\n",
       "      <td>2016-04-29 08:02:16</td>\n",
       "      <td>2016-04-29</td>\n",
       "      <td>21</td>\n",
       "      <td>ANDORINHAS</td>\n",
       "      <td>0</td>\n",
       "      <td>0</td>\n",
       "      <td>0</td>\n",
       "      <td>0</td>\n",
       "      <td>0</td>\n",
       "      <td>0</td>\n",
       "      <td>No</td>\n",
       "    </tr>\n",
       "    <tr>\n",
       "      <th>19</th>\n",
       "      <td>7.223289e+12</td>\n",
       "      <td>5640433</td>\n",
       "      <td>F</td>\n",
       "      <td>2016-04-29 10:43:14</td>\n",
       "      <td>2016-04-29</td>\n",
       "      <td>46</td>\n",
       "      <td>DA PENHA</td>\n",
       "      <td>0</td>\n",
       "      <td>0</td>\n",
       "      <td>0</td>\n",
       "      <td>0</td>\n",
       "      <td>0</td>\n",
       "      <td>0</td>\n",
       "      <td>No</td>\n",
       "    </tr>\n",
       "    <tr>\n",
       "      <th>24</th>\n",
       "      <td>8.734858e+12</td>\n",
       "      <td>5641780</td>\n",
       "      <td>F</td>\n",
       "      <td>2016-04-29 14:19:19</td>\n",
       "      <td>2016-04-29</td>\n",
       "      <td>65</td>\n",
       "      <td>TABUAZEIRO</td>\n",
       "      <td>0</td>\n",
       "      <td>0</td>\n",
       "      <td>0</td>\n",
       "      <td>0</td>\n",
       "      <td>0</td>\n",
       "      <td>0</td>\n",
       "      <td>No</td>\n",
       "    </tr>\n",
       "    <tr>\n",
       "      <th>26</th>\n",
       "      <td>2.578785e+10</td>\n",
       "      <td>5641781</td>\n",
       "      <td>F</td>\n",
       "      <td>2016-04-29 14:19:42</td>\n",
       "      <td>2016-04-29</td>\n",
       "      <td>45</td>\n",
       "      <td>BENTO FERREIRA</td>\n",
       "      <td>0</td>\n",
       "      <td>1</td>\n",
       "      <td>0</td>\n",
       "      <td>0</td>\n",
       "      <td>0</td>\n",
       "      <td>0</td>\n",
       "      <td>No</td>\n",
       "    </tr>\n",
       "    <tr>\n",
       "      <th>28</th>\n",
       "      <td>5.926172e+12</td>\n",
       "      <td>5642400</td>\n",
       "      <td>M</td>\n",
       "      <td>2016-04-29 15:48:02</td>\n",
       "      <td>2016-04-29</td>\n",
       "      <td>51</td>\n",
       "      <td>SÃO PEDRO</td>\n",
       "      <td>0</td>\n",
       "      <td>0</td>\n",
       "      <td>0</td>\n",
       "      <td>0</td>\n",
       "      <td>0</td>\n",
       "      <td>0</td>\n",
       "      <td>No</td>\n",
       "    </tr>\n",
       "    <tr>\n",
       "      <th>29</th>\n",
       "      <td>1.225776e+12</td>\n",
       "      <td>5642186</td>\n",
       "      <td>F</td>\n",
       "      <td>2016-04-29 15:16:29</td>\n",
       "      <td>2016-04-29</td>\n",
       "      <td>32</td>\n",
       "      <td>SANTA MARTHA</td>\n",
       "      <td>0</td>\n",
       "      <td>0</td>\n",
       "      <td>0</td>\n",
       "      <td>0</td>\n",
       "      <td>0</td>\n",
       "      <td>0</td>\n",
       "      <td>No</td>\n",
       "    </tr>\n",
       "    <tr>\n",
       "      <th>32</th>\n",
       "      <td>5.288356e+13</td>\n",
       "      <td>5637908</td>\n",
       "      <td>M</td>\n",
       "      <td>2016-04-29 07:30:27</td>\n",
       "      <td>2016-04-29</td>\n",
       "      <td>61</td>\n",
       "      <td>SÃO CRISTÓVÃO</td>\n",
       "      <td>0</td>\n",
       "      <td>1</td>\n",
       "      <td>0</td>\n",
       "      <td>0</td>\n",
       "      <td>0</td>\n",
       "      <td>0</td>\n",
       "      <td>No</td>\n",
       "    </tr>\n",
       "    <tr>\n",
       "      <th>34</th>\n",
       "      <td>1.999976e+13</td>\n",
       "      <td>5637963</td>\n",
       "      <td>F</td>\n",
       "      <td>2016-04-29 07:34:30</td>\n",
       "      <td>2016-04-29</td>\n",
       "      <td>79</td>\n",
       "      <td>SÃO CRISTÓVÃO</td>\n",
       "      <td>0</td>\n",
       "      <td>1</td>\n",
       "      <td>0</td>\n",
       "      <td>0</td>\n",
       "      <td>0</td>\n",
       "      <td>0</td>\n",
       "      <td>No</td>\n",
       "    </tr>\n",
       "    <tr>\n",
       "      <th>35</th>\n",
       "      <td>7.816264e+13</td>\n",
       "      <td>5637968</td>\n",
       "      <td>M</td>\n",
       "      <td>2016-04-29 07:34:42</td>\n",
       "      <td>2016-04-29</td>\n",
       "      <td>18</td>\n",
       "      <td>SÃO CRISTÓVÃO</td>\n",
       "      <td>0</td>\n",
       "      <td>0</td>\n",
       "      <td>0</td>\n",
       "      <td>0</td>\n",
       "      <td>0</td>\n",
       "      <td>0</td>\n",
       "      <td>No</td>\n",
       "    </tr>\n",
       "    <tr>\n",
       "      <th>36</th>\n",
       "      <td>7.298459e+13</td>\n",
       "      <td>5637975</td>\n",
       "      <td>F</td>\n",
       "      <td>2016-04-29 07:35:19</td>\n",
       "      <td>2016-04-29</td>\n",
       "      <td>63</td>\n",
       "      <td>SÃO CRISTÓVÃO</td>\n",
       "      <td>0</td>\n",
       "      <td>1</td>\n",
       "      <td>1</td>\n",
       "      <td>0</td>\n",
       "      <td>0</td>\n",
       "      <td>0</td>\n",
       "      <td>No</td>\n",
       "    </tr>\n",
       "    <tr>\n",
       "      <th>37</th>\n",
       "      <td>1.578132e+12</td>\n",
       "      <td>5637986</td>\n",
       "      <td>F</td>\n",
       "      <td>2016-04-29 07:35:56</td>\n",
       "      <td>2016-04-29</td>\n",
       "      <td>64</td>\n",
       "      <td>TABUAZEIRO</td>\n",
       "      <td>1</td>\n",
       "      <td>1</td>\n",
       "      <td>1</td>\n",
       "      <td>0</td>\n",
       "      <td>0</td>\n",
       "      <td>0</td>\n",
       "      <td>No</td>\n",
       "    </tr>\n",
       "    <tr>\n",
       "      <th>39</th>\n",
       "      <td>1.455623e+13</td>\n",
       "      <td>5639644</td>\n",
       "      <td>F</td>\n",
       "      <td>2016-04-29 09:21:13</td>\n",
       "      <td>2016-04-29</td>\n",
       "      <td>59</td>\n",
       "      <td>SÃO CRISTÓVÃO</td>\n",
       "      <td>0</td>\n",
       "      <td>0</td>\n",
       "      <td>0</td>\n",
       "      <td>0</td>\n",
       "      <td>0</td>\n",
       "      <td>0</td>\n",
       "      <td>No</td>\n",
       "    </tr>\n",
       "    <tr>\n",
       "      <th>43</th>\n",
       "      <td>7.155896e+13</td>\n",
       "      <td>5641620</td>\n",
       "      <td>F</td>\n",
       "      <td>2016-04-29 14:02:16</td>\n",
       "      <td>2016-04-29</td>\n",
       "      <td>49</td>\n",
       "      <td>SÃO CRISTÓVÃO</td>\n",
       "      <td>0</td>\n",
       "      <td>1</td>\n",
       "      <td>0</td>\n",
       "      <td>0</td>\n",
       "      <td>0</td>\n",
       "      <td>0</td>\n",
       "      <td>No</td>\n",
       "    </tr>\n",
       "    <tr>\n",
       "      <th>53</th>\n",
       "      <td>4.438587e+14</td>\n",
       "      <td>5637909</td>\n",
       "      <td>M</td>\n",
       "      <td>2016-04-29 07:30:31</td>\n",
       "      <td>2016-04-29</td>\n",
       "      <td>6</td>\n",
       "      <td>CONQUISTA</td>\n",
       "      <td>0</td>\n",
       "      <td>0</td>\n",
       "      <td>0</td>\n",
       "      <td>0</td>\n",
       "      <td>0</td>\n",
       "      <td>0</td>\n",
       "      <td>No</td>\n",
       "    </tr>\n",
       "    <tr>\n",
       "      <th>54</th>\n",
       "      <td>3.371889e+12</td>\n",
       "      <td>5638164</td>\n",
       "      <td>F</td>\n",
       "      <td>2016-04-29 07:46:08</td>\n",
       "      <td>2016-04-29</td>\n",
       "      <td>6</td>\n",
       "      <td>NOVA PALESTINA</td>\n",
       "      <td>0</td>\n",
       "      <td>0</td>\n",
       "      <td>0</td>\n",
       "      <td>0</td>\n",
       "      <td>0</td>\n",
       "      <td>0</td>\n",
       "      <td>No</td>\n",
       "    </tr>\n",
       "  </tbody>\n",
       "</table>\n",
       "</div>"
      ],
      "text/plain": [
       "       PatientId  AppointmentID Gender        ScheduledDay AppointmentDay  \\\n",
       "0   2.987250e+13        5642903      F 2016-04-29 18:38:08     2016-04-29   \n",
       "1   5.589978e+14        5642503      M 2016-04-29 16:08:27     2016-04-29   \n",
       "2   4.262962e+12        5642549      F 2016-04-29 16:19:04     2016-04-29   \n",
       "3   8.679512e+11        5642828      F 2016-04-29 17:29:31     2016-04-29   \n",
       "4   8.841186e+12        5642494      F 2016-04-29 16:07:23     2016-04-29   \n",
       "8   5.639473e+13        5638447      F 2016-04-29 08:02:16     2016-04-29   \n",
       "19  7.223289e+12        5640433      F 2016-04-29 10:43:14     2016-04-29   \n",
       "24  8.734858e+12        5641780      F 2016-04-29 14:19:19     2016-04-29   \n",
       "26  2.578785e+10        5641781      F 2016-04-29 14:19:42     2016-04-29   \n",
       "28  5.926172e+12        5642400      M 2016-04-29 15:48:02     2016-04-29   \n",
       "29  1.225776e+12        5642186      F 2016-04-29 15:16:29     2016-04-29   \n",
       "32  5.288356e+13        5637908      M 2016-04-29 07:30:27     2016-04-29   \n",
       "34  1.999976e+13        5637963      F 2016-04-29 07:34:30     2016-04-29   \n",
       "35  7.816264e+13        5637968      M 2016-04-29 07:34:42     2016-04-29   \n",
       "36  7.298459e+13        5637975      F 2016-04-29 07:35:19     2016-04-29   \n",
       "37  1.578132e+12        5637986      F 2016-04-29 07:35:56     2016-04-29   \n",
       "39  1.455623e+13        5639644      F 2016-04-29 09:21:13     2016-04-29   \n",
       "43  7.155896e+13        5641620      F 2016-04-29 14:02:16     2016-04-29   \n",
       "53  4.438587e+14        5637909      M 2016-04-29 07:30:31     2016-04-29   \n",
       "54  3.371889e+12        5638164      F 2016-04-29 07:46:08     2016-04-29   \n",
       "\n",
       "    Age       Neighborhood  Scholarship  Hypertension  Diabetes  Alcoholism  \\\n",
       "0    62    JARDIM DA PENHA            0             1         0           0   \n",
       "1    56    JARDIM DA PENHA            0             0         0           0   \n",
       "2    62      MATA DA PRAIA            0             0         0           0   \n",
       "3     8  PONTAL DE CAMBURI            0             0         0           0   \n",
       "4    56    JARDIM DA PENHA            0             1         1           0   \n",
       "8    21         ANDORINHAS            0             0         0           0   \n",
       "19   46           DA PENHA            0             0         0           0   \n",
       "24   65         TABUAZEIRO            0             0         0           0   \n",
       "26   45     BENTO FERREIRA            0             1         0           0   \n",
       "28   51          SÃO PEDRO            0             0         0           0   \n",
       "29   32       SANTA MARTHA            0             0         0           0   \n",
       "32   61      SÃO CRISTÓVÃO            0             1         0           0   \n",
       "34   79      SÃO CRISTÓVÃO            0             1         0           0   \n",
       "35   18      SÃO CRISTÓVÃO            0             0         0           0   \n",
       "36   63      SÃO CRISTÓVÃO            0             1         1           0   \n",
       "37   64         TABUAZEIRO            1             1         1           0   \n",
       "39   59      SÃO CRISTÓVÃO            0             0         0           0   \n",
       "43   49      SÃO CRISTÓVÃO            0             1         0           0   \n",
       "53    6          CONQUISTA            0             0         0           0   \n",
       "54    6     NOVA PALESTINA            0             0         0           0   \n",
       "\n",
       "    Handicap  SMS_received No-show  \n",
       "0          0             0      No  \n",
       "1          0             0      No  \n",
       "2          0             0      No  \n",
       "3          0             0      No  \n",
       "4          0             0      No  \n",
       "8          0             0      No  \n",
       "19         0             0      No  \n",
       "24         0             0      No  \n",
       "26         0             0      No  \n",
       "28         0             0      No  \n",
       "29         0             0      No  \n",
       "32         0             0      No  \n",
       "34         0             0      No  \n",
       "35         0             0      No  \n",
       "36         0             0      No  \n",
       "37         0             0      No  \n",
       "39         0             0      No  \n",
       "43         0             0      No  \n",
       "53         0             0      No  \n",
       "54         0             0      No  "
      ]
     },
     "execution_count": 367,
     "metadata": {},
     "output_type": "execute_result"
    }
   ],
   "source": [
    "df[(df['AppointmentDay']-df['ScheduledDay']).dt.days < 0].head(20)"
   ]
  },
  {
   "cell_type": "markdown",
   "metadata": {},
   "source": [
    ">From indications, it shows we have this error due to lack of time data on appointment day. We shall now clear the time data on schedule date in other for our data to be correct."
   ]
  },
  {
   "cell_type": "code",
   "execution_count": 368,
   "metadata": {},
   "outputs": [
    {
     "data": {
      "text/html": [
       "<div>\n",
       "<style scoped>\n",
       "    .dataframe tbody tr th:only-of-type {\n",
       "        vertical-align: middle;\n",
       "    }\n",
       "\n",
       "    .dataframe tbody tr th {\n",
       "        vertical-align: top;\n",
       "    }\n",
       "\n",
       "    .dataframe thead th {\n",
       "        text-align: right;\n",
       "    }\n",
       "</style>\n",
       "<table border=\"1\" class=\"dataframe\">\n",
       "  <thead>\n",
       "    <tr style=\"text-align: right;\">\n",
       "      <th></th>\n",
       "      <th>PatientId</th>\n",
       "      <th>AppointmentID</th>\n",
       "      <th>Gender</th>\n",
       "      <th>ScheduledDay</th>\n",
       "      <th>AppointmentDay</th>\n",
       "      <th>Age</th>\n",
       "      <th>Neighborhood</th>\n",
       "      <th>Scholarship</th>\n",
       "      <th>Hypertension</th>\n",
       "      <th>Diabetes</th>\n",
       "      <th>Alcoholism</th>\n",
       "      <th>Handicap</th>\n",
       "      <th>SMS_received</th>\n",
       "      <th>No-show</th>\n",
       "    </tr>\n",
       "  </thead>\n",
       "  <tbody>\n",
       "    <tr>\n",
       "      <th>0</th>\n",
       "      <td>2.987250e+13</td>\n",
       "      <td>5642903</td>\n",
       "      <td>F</td>\n",
       "      <td>2016-04-29</td>\n",
       "      <td>2016-04-29</td>\n",
       "      <td>62</td>\n",
       "      <td>JARDIM DA PENHA</td>\n",
       "      <td>0</td>\n",
       "      <td>1</td>\n",
       "      <td>0</td>\n",
       "      <td>0</td>\n",
       "      <td>0</td>\n",
       "      <td>0</td>\n",
       "      <td>No</td>\n",
       "    </tr>\n",
       "    <tr>\n",
       "      <th>1</th>\n",
       "      <td>5.589978e+14</td>\n",
       "      <td>5642503</td>\n",
       "      <td>M</td>\n",
       "      <td>2016-04-29</td>\n",
       "      <td>2016-04-29</td>\n",
       "      <td>56</td>\n",
       "      <td>JARDIM DA PENHA</td>\n",
       "      <td>0</td>\n",
       "      <td>0</td>\n",
       "      <td>0</td>\n",
       "      <td>0</td>\n",
       "      <td>0</td>\n",
       "      <td>0</td>\n",
       "      <td>No</td>\n",
       "    </tr>\n",
       "    <tr>\n",
       "      <th>2</th>\n",
       "      <td>4.262962e+12</td>\n",
       "      <td>5642549</td>\n",
       "      <td>F</td>\n",
       "      <td>2016-04-29</td>\n",
       "      <td>2016-04-29</td>\n",
       "      <td>62</td>\n",
       "      <td>MATA DA PRAIA</td>\n",
       "      <td>0</td>\n",
       "      <td>0</td>\n",
       "      <td>0</td>\n",
       "      <td>0</td>\n",
       "      <td>0</td>\n",
       "      <td>0</td>\n",
       "      <td>No</td>\n",
       "    </tr>\n",
       "    <tr>\n",
       "      <th>3</th>\n",
       "      <td>8.679512e+11</td>\n",
       "      <td>5642828</td>\n",
       "      <td>F</td>\n",
       "      <td>2016-04-29</td>\n",
       "      <td>2016-04-29</td>\n",
       "      <td>8</td>\n",
       "      <td>PONTAL DE CAMBURI</td>\n",
       "      <td>0</td>\n",
       "      <td>0</td>\n",
       "      <td>0</td>\n",
       "      <td>0</td>\n",
       "      <td>0</td>\n",
       "      <td>0</td>\n",
       "      <td>No</td>\n",
       "    </tr>\n",
       "    <tr>\n",
       "      <th>4</th>\n",
       "      <td>8.841186e+12</td>\n",
       "      <td>5642494</td>\n",
       "      <td>F</td>\n",
       "      <td>2016-04-29</td>\n",
       "      <td>2016-04-29</td>\n",
       "      <td>56</td>\n",
       "      <td>JARDIM DA PENHA</td>\n",
       "      <td>0</td>\n",
       "      <td>1</td>\n",
       "      <td>1</td>\n",
       "      <td>0</td>\n",
       "      <td>0</td>\n",
       "      <td>0</td>\n",
       "      <td>No</td>\n",
       "    </tr>\n",
       "  </tbody>\n",
       "</table>\n",
       "</div>"
      ],
      "text/plain": [
       "      PatientId  AppointmentID Gender ScheduledDay AppointmentDay  Age  \\\n",
       "0  2.987250e+13        5642903      F   2016-04-29     2016-04-29   62   \n",
       "1  5.589978e+14        5642503      M   2016-04-29     2016-04-29   56   \n",
       "2  4.262962e+12        5642549      F   2016-04-29     2016-04-29   62   \n",
       "3  8.679512e+11        5642828      F   2016-04-29     2016-04-29    8   \n",
       "4  8.841186e+12        5642494      F   2016-04-29     2016-04-29   56   \n",
       "\n",
       "        Neighborhood  Scholarship  Hypertension  Diabetes  Alcoholism  \\\n",
       "0    JARDIM DA PENHA            0             1         0           0   \n",
       "1    JARDIM DA PENHA            0             0         0           0   \n",
       "2      MATA DA PRAIA            0             0         0           0   \n",
       "3  PONTAL DE CAMBURI            0             0         0           0   \n",
       "4    JARDIM DA PENHA            0             1         1           0   \n",
       "\n",
       "   Handicap  SMS_received No-show  \n",
       "0         0             0      No  \n",
       "1         0             0      No  \n",
       "2         0             0      No  \n",
       "3         0             0      No  \n",
       "4         0             0      No  "
      ]
     },
     "execution_count": 368,
     "metadata": {},
     "output_type": "execute_result"
    }
   ],
   "source": [
    "#Removing time data from ScheduledDay\n",
    "df['ScheduledDay'] = df['ScheduledDay'].dt.date.astype('datetime64[ns]')\n",
    "df.head()"
   ]
  },
  {
   "cell_type": "markdown",
   "metadata": {},
   "source": [
    ">Now we shall run our check again and see if there's any difference."
   ]
  },
  {
   "cell_type": "code",
   "execution_count": 369,
   "metadata": {},
   "outputs": [
    {
     "name": "stdout",
     "output_type": "stream",
     "text": [
      "There are 5 records where appointment day is before scheduled day\n"
     ]
    }
   ],
   "source": [
    "print(\"There are {} records where appointment day is before scheduled day\".format(df[(df['AppointmentDay']-df['ScheduledDay']).dt.days < 0].shape[0]))"
   ]
  },
  {
   "cell_type": "code",
   "execution_count": 370,
   "metadata": {},
   "outputs": [
    {
     "data": {
      "text/html": [
       "<div>\n",
       "<style scoped>\n",
       "    .dataframe tbody tr th:only-of-type {\n",
       "        vertical-align: middle;\n",
       "    }\n",
       "\n",
       "    .dataframe tbody tr th {\n",
       "        vertical-align: top;\n",
       "    }\n",
       "\n",
       "    .dataframe thead th {\n",
       "        text-align: right;\n",
       "    }\n",
       "</style>\n",
       "<table border=\"1\" class=\"dataframe\">\n",
       "  <thead>\n",
       "    <tr style=\"text-align: right;\">\n",
       "      <th></th>\n",
       "      <th>PatientId</th>\n",
       "      <th>AppointmentID</th>\n",
       "      <th>Gender</th>\n",
       "      <th>ScheduledDay</th>\n",
       "      <th>AppointmentDay</th>\n",
       "      <th>Age</th>\n",
       "      <th>Neighborhood</th>\n",
       "      <th>Scholarship</th>\n",
       "      <th>Hypertension</th>\n",
       "      <th>Diabetes</th>\n",
       "      <th>Alcoholism</th>\n",
       "      <th>Handicap</th>\n",
       "      <th>SMS_received</th>\n",
       "      <th>No-show</th>\n",
       "    </tr>\n",
       "  </thead>\n",
       "  <tbody>\n",
       "    <tr>\n",
       "      <th>27033</th>\n",
       "      <td>7.839273e+12</td>\n",
       "      <td>5679978</td>\n",
       "      <td>M</td>\n",
       "      <td>2016-05-10</td>\n",
       "      <td>2016-05-09</td>\n",
       "      <td>38</td>\n",
       "      <td>RESISTÊNCIA</td>\n",
       "      <td>0</td>\n",
       "      <td>0</td>\n",
       "      <td>0</td>\n",
       "      <td>0</td>\n",
       "      <td>1</td>\n",
       "      <td>0</td>\n",
       "      <td>Yes</td>\n",
       "    </tr>\n",
       "    <tr>\n",
       "      <th>55226</th>\n",
       "      <td>7.896294e+12</td>\n",
       "      <td>5715660</td>\n",
       "      <td>F</td>\n",
       "      <td>2016-05-18</td>\n",
       "      <td>2016-05-17</td>\n",
       "      <td>19</td>\n",
       "      <td>SANTO ANTÔNIO</td>\n",
       "      <td>0</td>\n",
       "      <td>0</td>\n",
       "      <td>0</td>\n",
       "      <td>0</td>\n",
       "      <td>1</td>\n",
       "      <td>0</td>\n",
       "      <td>Yes</td>\n",
       "    </tr>\n",
       "    <tr>\n",
       "      <th>64175</th>\n",
       "      <td>2.425226e+13</td>\n",
       "      <td>5664962</td>\n",
       "      <td>F</td>\n",
       "      <td>2016-05-05</td>\n",
       "      <td>2016-05-04</td>\n",
       "      <td>22</td>\n",
       "      <td>CONSOLAÇÃO</td>\n",
       "      <td>0</td>\n",
       "      <td>0</td>\n",
       "      <td>0</td>\n",
       "      <td>0</td>\n",
       "      <td>0</td>\n",
       "      <td>0</td>\n",
       "      <td>Yes</td>\n",
       "    </tr>\n",
       "    <tr>\n",
       "      <th>71533</th>\n",
       "      <td>9.982316e+14</td>\n",
       "      <td>5686628</td>\n",
       "      <td>F</td>\n",
       "      <td>2016-05-11</td>\n",
       "      <td>2016-05-05</td>\n",
       "      <td>81</td>\n",
       "      <td>SANTO ANTÔNIO</td>\n",
       "      <td>0</td>\n",
       "      <td>0</td>\n",
       "      <td>0</td>\n",
       "      <td>0</td>\n",
       "      <td>0</td>\n",
       "      <td>0</td>\n",
       "      <td>Yes</td>\n",
       "    </tr>\n",
       "    <tr>\n",
       "      <th>72362</th>\n",
       "      <td>3.787482e+12</td>\n",
       "      <td>5655637</td>\n",
       "      <td>M</td>\n",
       "      <td>2016-05-04</td>\n",
       "      <td>2016-05-03</td>\n",
       "      <td>7</td>\n",
       "      <td>TABUAZEIRO</td>\n",
       "      <td>0</td>\n",
       "      <td>0</td>\n",
       "      <td>0</td>\n",
       "      <td>0</td>\n",
       "      <td>0</td>\n",
       "      <td>0</td>\n",
       "      <td>Yes</td>\n",
       "    </tr>\n",
       "  </tbody>\n",
       "</table>\n",
       "</div>"
      ],
      "text/plain": [
       "          PatientId  AppointmentID Gender ScheduledDay AppointmentDay  Age  \\\n",
       "27033  7.839273e+12        5679978      M   2016-05-10     2016-05-09   38   \n",
       "55226  7.896294e+12        5715660      F   2016-05-18     2016-05-17   19   \n",
       "64175  2.425226e+13        5664962      F   2016-05-05     2016-05-04   22   \n",
       "71533  9.982316e+14        5686628      F   2016-05-11     2016-05-05   81   \n",
       "72362  3.787482e+12        5655637      M   2016-05-04     2016-05-03    7   \n",
       "\n",
       "        Neighborhood  Scholarship  Hypertension  Diabetes  Alcoholism  \\\n",
       "27033    RESISTÊNCIA            0             0         0           0   \n",
       "55226  SANTO ANTÔNIO            0             0         0           0   \n",
       "64175     CONSOLAÇÃO            0             0         0           0   \n",
       "71533  SANTO ANTÔNIO            0             0         0           0   \n",
       "72362     TABUAZEIRO            0             0         0           0   \n",
       "\n",
       "       Handicap  SMS_received No-show  \n",
       "27033         1             0     Yes  \n",
       "55226         1             0     Yes  \n",
       "64175         0             0     Yes  \n",
       "71533         0             0     Yes  \n",
       "72362         0             0     Yes  "
      ]
     },
     "execution_count": 370,
     "metadata": {},
     "output_type": "execute_result"
    }
   ],
   "source": [
    "df[(df['AppointmentDay']-df['ScheduledDay']).dt.days < 0]"
   ]
  },
  {
   "cell_type": "markdown",
   "metadata": {},
   "source": [
    "We can swap these dates as they might have been switched during recordig. Another option is to drop this rows as we aren't certain of what exactly the error could be. we shall go with this later option. "
   ]
  },
  {
   "cell_type": "code",
   "execution_count": 371,
   "metadata": {},
   "outputs": [
    {
     "data": {
      "text/html": [
       "<div>\n",
       "<style scoped>\n",
       "    .dataframe tbody tr th:only-of-type {\n",
       "        vertical-align: middle;\n",
       "    }\n",
       "\n",
       "    .dataframe tbody tr th {\n",
       "        vertical-align: top;\n",
       "    }\n",
       "\n",
       "    .dataframe thead th {\n",
       "        text-align: right;\n",
       "    }\n",
       "</style>\n",
       "<table border=\"1\" class=\"dataframe\">\n",
       "  <thead>\n",
       "    <tr style=\"text-align: right;\">\n",
       "      <th></th>\n",
       "      <th>PatientId</th>\n",
       "      <th>AppointmentID</th>\n",
       "      <th>Gender</th>\n",
       "      <th>ScheduledDay</th>\n",
       "      <th>AppointmentDay</th>\n",
       "      <th>Age</th>\n",
       "      <th>Neighborhood</th>\n",
       "      <th>Scholarship</th>\n",
       "      <th>Hypertension</th>\n",
       "      <th>Diabetes</th>\n",
       "      <th>Alcoholism</th>\n",
       "      <th>Handicap</th>\n",
       "      <th>SMS_received</th>\n",
       "      <th>No-show</th>\n",
       "    </tr>\n",
       "  </thead>\n",
       "  <tbody>\n",
       "  </tbody>\n",
       "</table>\n",
       "</div>"
      ],
      "text/plain": [
       "Empty DataFrame\n",
       "Columns: [PatientId, AppointmentID, Gender, ScheduledDay, AppointmentDay, Age, Neighborhood, Scholarship, Hypertension, Diabetes, Alcoholism, Handicap, SMS_received, No-show]\n",
       "Index: []"
      ]
     },
     "execution_count": 371,
     "metadata": {},
     "output_type": "execute_result"
    }
   ],
   "source": [
    "#droping the rows with incorrect scheduledDay or appointmentDay.\n",
    "df.drop([27033,55226,64175,71533,72362], inplace=True)\n",
    "\n",
    "#checking our drop\n",
    "df[(df['AppointmentDay']-df['ScheduledDay']).dt.days < 0]"
   ]
  },
  {
   "cell_type": "markdown",
   "metadata": {},
   "source": [
    ">Hence our problem was the time data on the ScheduledDay and 5 other erronious data.\n",
    ">\n",
    ">We will now chek our ages to make sure they are realistic."
   ]
  },
  {
   "cell_type": "code",
   "execution_count": 372,
   "metadata": {},
   "outputs": [
    {
     "data": {
      "text/plain": [
       "array([ 62,  56,   8,  76,  23,  39,  21,  19,  30,  29,  22,  28,  54,\n",
       "        15,  50,  40,  46,   4,  13,  65,  45,  51,  32,  12,  61,  38,\n",
       "        79,  18,  63,  64,  85,  59,  55,  71,  49,  78,  31,  58,  27,\n",
       "         6,   2,  11,   7,   0,   3,   1,  69,  68,  60,  67,  36,  10,\n",
       "        35,  20,  26,  34,  33,  16,  42,   5,  47,  17,  41,  44,  37,\n",
       "        24,  66,  77,  81,  70,  53,  75,  73,  52,  74,  43,  89,  57,\n",
       "        14,   9,  48,  83,  72,  25,  80,  87,  88,  84,  82,  90,  94,\n",
       "        86,  91,  98,  92,  96,  93,  95,  97, 102, 115, 100,  99,  -1])"
      ]
     },
     "execution_count": 372,
     "metadata": {},
     "output_type": "execute_result"
    }
   ],
   "source": [
    "#Checking unique values for Ages\n",
    "df.Age.unique()"
   ]
  },
  {
   "cell_type": "code",
   "execution_count": 373,
   "metadata": {},
   "outputs": [
    {
     "data": {
      "text/plain": [
       "-1"
      ]
     },
     "execution_count": 373,
     "metadata": {},
     "output_type": "execute_result"
    }
   ],
   "source": [
    "#checking lowest value\n",
    "df.Age.min()"
   ]
  },
  {
   "cell_type": "code",
   "execution_count": 374,
   "metadata": {},
   "outputs": [
    {
     "data": {
      "text/plain": [
       "115"
      ]
     },
     "execution_count": 374,
     "metadata": {},
     "output_type": "execute_result"
    }
   ],
   "source": [
    "#checking largest value\n",
    "df.Age.max()"
   ]
  },
  {
   "cell_type": "code",
   "execution_count": 375,
   "metadata": {},
   "outputs": [
    {
     "data": {
      "text/html": [
       "<div>\n",
       "<style scoped>\n",
       "    .dataframe tbody tr th:only-of-type {\n",
       "        vertical-align: middle;\n",
       "    }\n",
       "\n",
       "    .dataframe tbody tr th {\n",
       "        vertical-align: top;\n",
       "    }\n",
       "\n",
       "    .dataframe thead th {\n",
       "        text-align: right;\n",
       "    }\n",
       "</style>\n",
       "<table border=\"1\" class=\"dataframe\">\n",
       "  <thead>\n",
       "    <tr style=\"text-align: right;\">\n",
       "      <th></th>\n",
       "      <th>PatientId</th>\n",
       "      <th>AppointmentID</th>\n",
       "      <th>Gender</th>\n",
       "      <th>ScheduledDay</th>\n",
       "      <th>AppointmentDay</th>\n",
       "      <th>Age</th>\n",
       "      <th>Neighborhood</th>\n",
       "      <th>Scholarship</th>\n",
       "      <th>Hypertension</th>\n",
       "      <th>Diabetes</th>\n",
       "      <th>Alcoholism</th>\n",
       "      <th>Handicap</th>\n",
       "      <th>SMS_received</th>\n",
       "      <th>No-show</th>\n",
       "    </tr>\n",
       "  </thead>\n",
       "  <tbody>\n",
       "    <tr>\n",
       "      <th>99832</th>\n",
       "      <td>4.659432e+14</td>\n",
       "      <td>5775010</td>\n",
       "      <td>F</td>\n",
       "      <td>2016-06-06</td>\n",
       "      <td>2016-06-06</td>\n",
       "      <td>-1</td>\n",
       "      <td>ROMÃO</td>\n",
       "      <td>0</td>\n",
       "      <td>0</td>\n",
       "      <td>0</td>\n",
       "      <td>0</td>\n",
       "      <td>0</td>\n",
       "      <td>0</td>\n",
       "      <td>No</td>\n",
       "    </tr>\n",
       "  </tbody>\n",
       "</table>\n",
       "</div>"
      ],
      "text/plain": [
       "          PatientId  AppointmentID Gender ScheduledDay AppointmentDay  Age  \\\n",
       "99832  4.659432e+14        5775010      F   2016-06-06     2016-06-06   -1   \n",
       "\n",
       "      Neighborhood  Scholarship  Hypertension  Diabetes  Alcoholism  Handicap  \\\n",
       "99832        ROMÃO            0             0         0           0         0   \n",
       "\n",
       "       SMS_received No-show  \n",
       "99832             0      No  "
      ]
     },
     "execution_count": 375,
     "metadata": {},
     "output_type": "execute_result"
    }
   ],
   "source": [
    "df[df.Age == -1]\n"
   ]
  },
  {
   "cell_type": "markdown",
   "metadata": {},
   "source": [
    ">Looking at the minimum age we can only assume it was a check up done by a pregnant woman to check her unborn child, and also that all the '0' ages are for babies. in other to check this, we shall now check to see if there's any record for alcoholism, diabetes, hypertension other than '0' as this will indicate an error in our data and such a row will be dropped before further processing."
   ]
  },
  {
   "cell_type": "code",
   "execution_count": 376,
   "metadata": {},
   "outputs": [
    {
     "data": {
      "text/html": [
       "<div>\n",
       "<style scoped>\n",
       "    .dataframe tbody tr th:only-of-type {\n",
       "        vertical-align: middle;\n",
       "    }\n",
       "\n",
       "    .dataframe tbody tr th {\n",
       "        vertical-align: top;\n",
       "    }\n",
       "\n",
       "    .dataframe thead th {\n",
       "        text-align: right;\n",
       "    }\n",
       "</style>\n",
       "<table border=\"1\" class=\"dataframe\">\n",
       "  <thead>\n",
       "    <tr style=\"text-align: right;\">\n",
       "      <th></th>\n",
       "      <th>PatientId</th>\n",
       "      <th>AppointmentID</th>\n",
       "      <th>Gender</th>\n",
       "      <th>ScheduledDay</th>\n",
       "      <th>AppointmentDay</th>\n",
       "      <th>Age</th>\n",
       "      <th>Neighborhood</th>\n",
       "      <th>Scholarship</th>\n",
       "      <th>Hypertension</th>\n",
       "      <th>Diabetes</th>\n",
       "      <th>Alcoholism</th>\n",
       "      <th>Handicap</th>\n",
       "      <th>SMS_received</th>\n",
       "      <th>No-show</th>\n",
       "    </tr>\n",
       "  </thead>\n",
       "  <tbody>\n",
       "  </tbody>\n",
       "</table>\n",
       "</div>"
      ],
      "text/plain": [
       "Empty DataFrame\n",
       "Columns: [PatientId, AppointmentID, Gender, ScheduledDay, AppointmentDay, Age, Neighborhood, Scholarship, Hypertension, Diabetes, Alcoholism, Handicap, SMS_received, No-show]\n",
       "Index: []"
      ]
     },
     "execution_count": 376,
     "metadata": {},
     "output_type": "execute_result"
    }
   ],
   "source": [
    "#checking if age 0 actually refers to babies records\n",
    "df[(df.Age == 0) & ((df.Hypertension == 1) | (df.Alcoholism == 1) | (df.Diabetes == 1))]"
   ]
  },
  {
   "cell_type": "markdown",
   "metadata": {},
   "source": [
    ">This shows no record implying our assumption is correct."
   ]
  },
  {
   "cell_type": "markdown",
   "metadata": {},
   "source": [
    ">Finally we will drop the 'PatientID' and 'AppointmentID' in other to carry on with our next step."
   ]
  },
  {
   "cell_type": "code",
   "execution_count": 377,
   "metadata": {},
   "outputs": [
    {
     "name": "stdout",
     "output_type": "stream",
     "text": [
      "<class 'pandas.core.frame.DataFrame'>\n",
      "Int64Index: 110522 entries, 0 to 110526\n",
      "Data columns (total 12 columns):\n",
      " #   Column          Non-Null Count   Dtype         \n",
      "---  ------          --------------   -----         \n",
      " 0   Gender          110522 non-null  object        \n",
      " 1   ScheduledDay    110522 non-null  datetime64[ns]\n",
      " 2   AppointmentDay  110522 non-null  datetime64[ns]\n",
      " 3   Age             110522 non-null  int64         \n",
      " 4   Neighborhood    110522 non-null  object        \n",
      " 5   Scholarship     110522 non-null  int64         \n",
      " 6   Hypertension    110522 non-null  int64         \n",
      " 7   Diabetes        110522 non-null  int64         \n",
      " 8   Alcoholism      110522 non-null  int64         \n",
      " 9   Handicap        110522 non-null  int64         \n",
      " 10  SMS_received    110522 non-null  int64         \n",
      " 11  No-show         110522 non-null  object        \n",
      "dtypes: datetime64[ns](2), int64(7), object(3)\n",
      "memory usage: 11.0+ MB\n"
     ]
    }
   ],
   "source": [
    "#Dropping PatientID and AppointmentID, get columns index from df.info()\n",
    "df.drop(df.columns[[0,1]], axis=1, inplace=True)\n",
    "\n",
    "#checking the drop\n",
    "df.info()"
   ]
  },
  {
   "cell_type": "markdown",
   "metadata": {},
   "source": [
    "<a id='eda'></a>\n",
    "## Exploratory Data Analysis\n",
    "\n",
    "### Research Question 1 (Does the gender have any measure influence on the patient showing up or not?)"
   ]
  },
  {
   "cell_type": "markdown",
   "metadata": {},
   "source": [
    "First we will look at the ratio of males that showed up against males who didn't and will do similar for the females and compare the respective percentages.\n",
    ">For this we will be getting the total number of males and females, then the respectine number that showed up or not for the appointment based on our data."
   ]
  },
  {
   "cell_type": "code",
   "execution_count": 378,
   "metadata": {},
   "outputs": [
    {
     "name": "stdout",
     "output_type": "stream",
     "text": [
      "No-show\n",
      "No     88208\n",
      "Yes    22314\n",
      "dtype: int64\n",
      "Gender\n",
      "F    71837\n",
      "M    38685\n",
      "dtype: int64\n"
     ]
    }
   ],
   "source": [
    "#Total number of people who showed up or not: \n",
    "print(df.groupby(['No-show']).size())\n",
    "\n",
    "#total number of males and females\n",
    "print(df.groupby(['Gender']).size())"
   ]
  },
  {
   "cell_type": "code",
   "execution_count": 231,
   "metadata": {},
   "outputs": [
    {
     "name": "stdout",
     "output_type": "stream",
     "text": [
      "Number of men who showed up: 30962\n",
      "Number of men who didn't show up: 7723\n",
      "Percentage of men who showed up: 80.04%\n",
      "Percentage of men that didn't show up:19.96%\n"
     ]
    }
   ],
   "source": [
    "#Number and percentage of men who showed up or not\n",
    "men_t = df[df.Gender == 'M'].shape[0]\n",
    "men_s = df[(df.Gender=='M') & (df['No-show'] =='No')].shape[0]\n",
    "print('Number of men who showed up: {}'.format(men_s))\n",
    "print('Number of men who didn\\'t show up: {}'.format(men_t - men_s))\n",
    "print('Percentage of men who showed up: {:.2f}%'.format((men_s/men_t)*100))\n",
    "print('Percentage of men that didn\\'t show up:{:.2f}%'.format(100-((men_s/men_t)*100)))"
   ]
  },
  {
   "cell_type": "code",
   "execution_count": 232,
   "metadata": {},
   "outputs": [
    {
     "name": "stdout",
     "output_type": "stream",
     "text": [
      "Number of women who showed up: 57246\n",
      "Number of women who didn't show up: 14591\n",
      "Percentage of wommen who showed up: 79.69%\n",
      "Percentage of women that didn't show up:20.31%\n"
     ]
    }
   ],
   "source": [
    "#Number and percentage of women who showed up or not\n",
    "wmen_t = df[df.Gender == 'F'].shape[0]\n",
    "wmen_s = df[(df.Gender=='F') & (df['No-show'] =='No')].shape[0]\n",
    "print('Number of women who showed up: {}'.format(wmen_s))\n",
    "print('Number of women who didn\\'t show up: {}'.format(wmen_t - wmen_s))\n",
    "print('Percentage of wommen who showed up: {:.2f}%'.format((wmen_s/wmen_t)*100))\n",
    "print('Percentage of women that didn\\'t show up:{:.2f}%'.format(100-((wmen_s/wmen_t)*100)))"
   ]
  },
  {
   "cell_type": "code",
   "execution_count": 233,
   "metadata": {},
   "outputs": [
    {
     "data": {
      "image/png": "[encoded data removed]",
      "text/plain": [
       "<Figure size 864x864 with 1 Axes>"
      ]
     },
     "metadata": {
      "needs_background": "light"
     },
     "output_type": "display_data"
    }
   ],
   "source": [
    "# visualization of gender\n",
    "plt.figure(figsize=(12,12))\n",
    "graph = sns.countplot(x=df.Gender, hue=df['No-show'], data=df)\n",
    "labels=['Female', 'Male']\n",
    "graph.set_xticklabels(labels)\n",
    "graph.set_title('Show-up and No-show for Gender')\n",
    "plt.show()"
   ]
  },
  {
   "cell_type": "markdown",
   "metadata": {},
   "source": []
  },
  {
   "cell_type": "markdown",
   "metadata": {},
   "source": [
    "### Research Question 2  (Does the wiating period between scheduling and appointment time affect possibility of showing up or not?)\n",
    ">\n",
    ">In other to investigate this, we will need to first get the waiting time and then look at the relationship with a patient showing up or not.\n",
    ">We shall be ploting a countplot against showing up and no show.\n",
    ">\n",
    ">We shall plot one graph for the low waiting time sample data and another for the high waiting time sample data"
   ]
  },
  {
   "cell_type": "code",
   "execution_count": 234,
   "metadata": {},
   "outputs": [
    {
     "data": {
      "image/png": "[encoded data removed]",
      "text/plain": [
       "<Figure size 1152x1152 with 1 Axes>"
      ]
     },
     "metadata": {
      "needs_background": "light"
     },
     "output_type": "display_data"
    }
   ],
   "source": [
    "#We shall be plotting based on the waiting time Value count\n",
    "#plot 1\n",
    "plt.figure(figsize=(16,16))\n",
    "graph = sns.countplot(x=(df.AppointmentDay - df.ScheduledDay).dt.days, hue=df['No-show'], order=((df.AppointmentDay - df.ScheduledDay).dt.days).value_counts().iloc[:60].index)\n",
    "graph.set_title('high count order waiting time show/no-show sample countplot(first 60)')\n",
    "plt.show()"
   ]
  },
  {
   "cell_type": "code",
   "execution_count": 235,
   "metadata": {},
   "outputs": [
    {
     "data": {
      "image/png": "[encoded data removed]",
      "text/plain": [
       "<Figure size 1296x1152 with 1 Axes>"
      ]
     },
     "metadata": {
      "needs_background": "light"
     },
     "output_type": "display_data"
    }
   ],
   "source": [
    "#plot 2\n",
    "plt.figure(figsize=(18,16))\n",
    "graph = sns.countplot(x=(df.AppointmentDay - df.ScheduledDay).dt.days, hue=df['No-show'], order=((df.AppointmentDay - df.ScheduledDay).dt.days).value_counts(ascending=True).iloc[:60].index)\n",
    "graph.set_title('low count order waiting time show/no-show sample countplot(first 60)')\n",
    "plt.show()"
   ]
  },
  {
   "cell_type": "markdown",
   "metadata": {},
   "source": [
    "### Research Question 3(Is patient's age of any noticeable influence on the patient showing up?)\n",
    ">\n",
    ">Here we will try to look at the patients age and relationship btw showing up or not.\n",
    ">We shall also check the percentage show up and no show up for the various ages.\n"
   ]
  },
  {
   "cell_type": "code",
   "execution_count": 236,
   "metadata": {},
   "outputs": [
    {
     "data": {
      "text/plain": [
       "<function matplotlib.pyplot.show(close=None, block=None)>"
      ]
     },
     "execution_count": 236,
     "metadata": {},
     "output_type": "execute_result"
    },
    {
     "data": {
      "image/png": "[encoded data removed]",
      "text/plain": [
       "<Figure size 1296x720 with 1 Axes>"
      ]
     },
     "metadata": {
      "needs_background": "light"
     },
     "output_type": "display_data"
    }
   ],
   "source": [
    "\n",
    "\n",
    "#plot 1 \n",
    "plt.figure(figsize=(18,10))\n",
    "graph = sns.countplot(x=df.Age, hue= df['No-show'])\n",
    "graph.set_title('Show and no-show of appointments by age')\n",
    "plt.xticks(rotation=90)\n",
    "plt.show\n"
   ]
  },
  {
   "cell_type": "code",
   "execution_count": 288,
   "metadata": {
    "scrolled": true
   },
   "outputs": [
    {
     "data": {
      "image/png": "[encoded data removed]",
      "text/plain": [
       "<Figure size 1296x720 with 1 Axes>"
      ]
     },
     "metadata": {
      "needs_background": "light"
     },
     "output_type": "display_data"
    }
   ],
   "source": [
    "#Function to plot percentage show up for any variable\n",
    "def percentage_show_plt(column_name):\n",
    "    ratio = df[df['No-show'] == 'No'].groupby([column_name]).size()/df.groupby([column_name]).size()\n",
    "    plt.figure(figsize=(18,10))\n",
    "    ylabel = 'show up ratio'\n",
    "    graph = sns.barplot(x=ratio.index, y=ratio)\n",
    "    title = 'Percentage show up for appointments by '+ column_name\n",
    "    graph.set_title(title)\n",
    "    graph.set_ylabel(ylabel)\n",
    "    if(ratio.shape[0] > 16):\n",
    "        plt.xticks(rotation=90)\n",
    "    plt.show\n",
    "    \n",
    "#plotting percentage show up for Appointments by age\n",
    "percentage_show_plt('Age')\n"
   ]
  },
  {
   "cell_type": "markdown",
   "metadata": {},
   "source": [
    "We shall then proceed by checking the distribution of age across showing up or not. ***note*** this intuition and method is based on a review received concerning this data exploration."
   ]
  },
  {
   "cell_type": "code",
   "execution_count": 391,
   "metadata": {
    "scrolled": true
   },
   "outputs": [
    {
     "data": {
      "text/html": [
       "<div>\n",
       "<style scoped>\n",
       "    .dataframe tbody tr th:only-of-type {\n",
       "        vertical-align: middle;\n",
       "    }\n",
       "\n",
       "    .dataframe tbody tr th {\n",
       "        vertical-align: top;\n",
       "    }\n",
       "\n",
       "    .dataframe thead th {\n",
       "        text-align: right;\n",
       "    }\n",
       "</style>\n",
       "<table border=\"1\" class=\"dataframe\">\n",
       "  <thead>\n",
       "    <tr style=\"text-align: right;\">\n",
       "      <th></th>\n",
       "      <th>count</th>\n",
       "      <th>mean</th>\n",
       "      <th>std</th>\n",
       "      <th>min</th>\n",
       "      <th>25%</th>\n",
       "      <th>50%</th>\n",
       "      <th>75%</th>\n",
       "      <th>max</th>\n",
       "    </tr>\n",
       "    <tr>\n",
       "      <th>No-show</th>\n",
       "      <th></th>\n",
       "      <th></th>\n",
       "      <th></th>\n",
       "      <th></th>\n",
       "      <th></th>\n",
       "      <th></th>\n",
       "      <th></th>\n",
       "      <th></th>\n",
       "    </tr>\n",
       "  </thead>\n",
       "  <tbody>\n",
       "    <tr>\n",
       "      <th>No</th>\n",
       "      <td>88208.0</td>\n",
       "      <td>37.790064</td>\n",
       "      <td>23.338878</td>\n",
       "      <td>-1.0</td>\n",
       "      <td>18.0</td>\n",
       "      <td>38.0</td>\n",
       "      <td>56.0</td>\n",
       "      <td>115.0</td>\n",
       "    </tr>\n",
       "    <tr>\n",
       "      <th>Yes</th>\n",
       "      <td>22314.0</td>\n",
       "      <td>34.317872</td>\n",
       "      <td>21.965009</td>\n",
       "      <td>0.0</td>\n",
       "      <td>16.0</td>\n",
       "      <td>33.0</td>\n",
       "      <td>51.0</td>\n",
       "      <td>115.0</td>\n",
       "    </tr>\n",
       "  </tbody>\n",
       "</table>\n",
       "</div>"
      ],
      "text/plain": [
       "           count       mean        std  min   25%   50%   75%    max\n",
       "No-show                                                             \n",
       "No       88208.0  37.790064  23.338878 -1.0  18.0  38.0  56.0  115.0\n",
       "Yes      22314.0  34.317872  21.965009  0.0  16.0  33.0  51.0  115.0"
      ]
     },
     "execution_count": 391,
     "metadata": {},
     "output_type": "execute_result"
    },
    {
     "data": {
      "text/plain": [
       "<Figure size 1152x720 with 0 Axes>"
      ]
     },
     "metadata": {},
     "output_type": "display_data"
    },
    {
     "data": {
      "image/png": "[encoded data removed]",
      "text/plain": [
       "<Figure size 1152x720 with 1 Axes>"
      ]
     },
     "metadata": {
      "needs_background": "light"
     },
     "output_type": "display_data"
    }
   ],
   "source": [
    "#boxplot for age distribution\n",
    "df.boxplot(column=['Age'], by = ['No-show'],figsize=(16,10), rot=90)\n",
    "plt.ylabel('Age')\n",
    "pd.DataFrame(df.groupby(['No-show'])['Age'].describe())"
   ]
  },
  {
   "cell_type": "markdown",
   "metadata": {},
   "source": [
    ">We notice that our mean age for showing up is around 38 and not showing up 34. and that the IQR for showing up is between 18 and 56 and for not showing up between 15 and 50 and we see some outliers in both distribution. most importantantly, the figure shows a normal distribution in both cases. "
   ]
  },
  {
   "cell_type": "markdown",
   "metadata": {},
   "source": [
    "### Research Question 4(Does the neighborhood affect the rate of patients showing up?)\n",
    ">Here we shall simply look at the percentage show up of patients by neighborhood."
   ]
  },
  {
   "cell_type": "code",
   "execution_count": 290,
   "metadata": {
    "scrolled": false
   },
   "outputs": [
    {
     "data": {
      "image/png": "[encoded data removed]",
      "text/plain": [
       "<Figure size 1296x720 with 1 Axes>"
      ]
     },
     "metadata": {
      "needs_background": "light"
     },
     "output_type": "display_data"
    }
   ],
   "source": [
    "#plotting the percentage show up by neiborhood\n",
    "percentage_show_plt('Neighborhood')"
   ]
  },
  {
   "cell_type": "markdown",
   "metadata": {},
   "source": [
    ">The above shows some particular neighborhood with high show up percentage, it will be a great idea to check if that may be as a result of low number of appointments or not.\n",
    ">Hence we shall plot another graph of the number of appointments by neighborhood."
   ]
  },
  {
   "cell_type": "code",
   "execution_count": 291,
   "metadata": {},
   "outputs": [
    {
     "data": {
      "image/png": "[encoded data removed]",
      "text/plain": [
       "<Figure size 1152x720 with 1 Axes>"
      ]
     },
     "metadata": {
      "needs_background": "light"
     },
     "output_type": "display_data"
    }
   ],
   "source": [
    "\n",
    "plt.figure(figsize=(16,10))\n",
    "graph = sns.countplot(x=np.sort(df.Neighborhood))\n",
    "graph.set_title('Number of appointments per neighborhood')\n",
    "graph.set_ylabel('Number of appointments')\n",
    "plt.xticks(rotation=90)\n",
    "plt.show()"
   ]
  },
  {
   "cell_type": "markdown",
   "metadata": {},
   "source": [
    ">this clearly shows that the initially visualized high show up rate in areas like `PARQUE INDUSTRIAL` is as a result of low appointments in the area"
   ]
  },
  {
   "cell_type": "markdown",
   "metadata": {},
   "source": [
    "### Research Question 5(Is patient's condition affecting the show up rate?)\n",
    ">\n",
    ">Here we shall be looking at what effect a patients condition(handicap or not) has on both appointment and show up "
   ]
  },
  {
   "cell_type": "code",
   "execution_count": 292,
   "metadata": {
    "scrolled": true
   },
   "outputs": [
    {
     "data": {
      "text/plain": [
       "<AxesSubplot:>"
      ]
     },
     "execution_count": 292,
     "metadata": {},
     "output_type": "execute_result"
    },
    {
     "data": {
      "image/png": "[encoded data removed]",
      "text/plain": [
       "<Figure size 1152x1152 with 1 Axes>"
      ]
     },
     "metadata": {
      "needs_background": "light"
     },
     "output_type": "display_data"
    }
   ],
   "source": [
    "#First we will plot a histogram to check appointment counts for handicap\n",
    "df.Handicap.hist(figsize=(16,16))"
   ]
  },
  {
   "cell_type": "markdown",
   "metadata": {},
   "source": [
    ">From the above fig it's clear most of the patients are not handicap.\n",
    ">\n",
    ">Now we shall plot the show and no show histogram for hadicap"
   ]
  },
  {
   "cell_type": "code",
   "execution_count": 392,
   "metadata": {},
   "outputs": [
    {
     "data": {
      "image/png": "[encoded data removed]",
      "text/plain": [
       "<Figure size 1152x864 with 1 Axes>"
      ]
     },
     "metadata": {
      "needs_background": "light"
     },
     "output_type": "display_data"
    },
    {
     "data": {
      "text/html": [
       "<div>\n",
       "<style scoped>\n",
       "    .dataframe tbody tr th:only-of-type {\n",
       "        vertical-align: middle;\n",
       "    }\n",
       "\n",
       "    .dataframe tbody tr th {\n",
       "        vertical-align: top;\n",
       "    }\n",
       "\n",
       "    .dataframe thead th {\n",
       "        text-align: right;\n",
       "    }\n",
       "</style>\n",
       "<table border=\"1\" class=\"dataframe\">\n",
       "  <thead>\n",
       "    <tr style=\"text-align: right;\">\n",
       "      <th></th>\n",
       "      <th>count</th>\n",
       "      <th>mean</th>\n",
       "      <th>std</th>\n",
       "      <th>min</th>\n",
       "      <th>25%</th>\n",
       "      <th>50%</th>\n",
       "      <th>75%</th>\n",
       "      <th>max</th>\n",
       "    </tr>\n",
       "    <tr>\n",
       "      <th>No-show</th>\n",
       "      <th></th>\n",
       "      <th></th>\n",
       "      <th></th>\n",
       "      <th></th>\n",
       "      <th></th>\n",
       "      <th></th>\n",
       "      <th></th>\n",
       "      <th></th>\n",
       "    </tr>\n",
       "  </thead>\n",
       "  <tbody>\n",
       "    <tr>\n",
       "      <th>No</th>\n",
       "      <td>88208.0</td>\n",
       "      <td>0.022742</td>\n",
       "      <td>0.162750</td>\n",
       "      <td>0.0</td>\n",
       "      <td>0.0</td>\n",
       "      <td>0.0</td>\n",
       "      <td>0.0</td>\n",
       "      <td>4.0</td>\n",
       "    </tr>\n",
       "    <tr>\n",
       "      <th>Yes</th>\n",
       "      <td>22314.0</td>\n",
       "      <td>0.020212</td>\n",
       "      <td>0.156412</td>\n",
       "      <td>0.0</td>\n",
       "      <td>0.0</td>\n",
       "      <td>0.0</td>\n",
       "      <td>0.0</td>\n",
       "      <td>4.0</td>\n",
       "    </tr>\n",
       "  </tbody>\n",
       "</table>\n",
       "</div>"
      ],
      "text/plain": [
       "           count      mean       std  min  25%  50%  75%  max\n",
       "No-show                                                      \n",
       "No       88208.0  0.022742  0.162750  0.0  0.0  0.0  0.0  4.0\n",
       "Yes      22314.0  0.020212  0.156412  0.0  0.0  0.0  0.0  4.0"
      ]
     },
     "execution_count": 392,
     "metadata": {},
     "output_type": "execute_result"
    }
   ],
   "source": [
    "plt.figure(figsize=(16,12))\n",
    "graph = sns.countplot(x=df.Handicap, hue=df['No-show'],data=df)\n",
    "graph.set_title('Show and no show for handicap')\n",
    "plt.show()\n",
    "pd.DataFrame(df.groupby(['No-show'])['Handicap'].describe())"
   ]
  },
  {
   "cell_type": "markdown",
   "metadata": {},
   "source": [
    ">Since we can't draw much conclusion from the above plot, we shall then compare the percentage show up for handicap."
   ]
  },
  {
   "cell_type": "code",
   "execution_count": 294,
   "metadata": {},
   "outputs": [
    {
     "data": {
      "image/png": "[encoded data removed]",
      "text/plain": [
       "<Figure size 1296x720 with 1 Axes>"
      ]
     },
     "metadata": {
      "needs_background": "light"
     },
     "output_type": "display_data"
    }
   ],
   "source": [
    "#plotting the percentage show up by handicap\n",
    "percentage_show_plt('Handicap')"
   ]
  },
  {
   "cell_type": "markdown",
   "metadata": {},
   "source": [
    "Here it's clear that a high percentage for the different subgroup show up for appointments but we can also notice that there's a little bit of difference for each separate group"
   ]
  },
  {
   "cell_type": "markdown",
   "metadata": {},
   "source": [
    "### Research Question 6(Does patient's deases affect show up rate?)\n",
    "> Here we shall proceed by checking the percentage show up for every diseases.\n",
    "> we shall proceed by checking if there's any relationship between a patient having 2 or more of these conditions and how it affects the show up rate\n"
   ]
  },
  {
   "cell_type": "markdown",
   "metadata": {},
   "source": [
    "- Hypertension\n"
   ]
  },
  {
   "cell_type": "code",
   "execution_count": 311,
   "metadata": {
    "scrolled": true
   },
   "outputs": [
    {
     "data": {
      "text/html": [
       "<div>\n",
       "<style scoped>\n",
       "    .dataframe tbody tr th:only-of-type {\n",
       "        vertical-align: middle;\n",
       "    }\n",
       "\n",
       "    .dataframe tbody tr th {\n",
       "        vertical-align: top;\n",
       "    }\n",
       "\n",
       "    .dataframe thead th {\n",
       "        text-align: right;\n",
       "    }\n",
       "</style>\n",
       "<table border=\"1\" class=\"dataframe\">\n",
       "  <thead>\n",
       "    <tr style=\"text-align: right;\">\n",
       "      <th></th>\n",
       "      <th>count</th>\n",
       "    </tr>\n",
       "    <tr>\n",
       "      <th>Hypertension</th>\n",
       "      <th></th>\n",
       "    </tr>\n",
       "  </thead>\n",
       "  <tbody>\n",
       "    <tr>\n",
       "      <th>0</th>\n",
       "      <td>88721</td>\n",
       "    </tr>\n",
       "    <tr>\n",
       "      <th>1</th>\n",
       "      <td>21801</td>\n",
       "    </tr>\n",
       "  </tbody>\n",
       "</table>\n",
       "</div>"
      ],
      "text/plain": [
       "              count\n",
       "Hypertension       \n",
       "0             88721\n",
       "1             21801"
      ]
     },
     "execution_count": 311,
     "metadata": {},
     "output_type": "execute_result"
    },
    {
     "data": {
      "image/png": "[encoded data removed]",
      "text/plain": [
       "<Figure size 1296x720 with 1 Axes>"
      ]
     },
     "metadata": {
      "needs_background": "light"
     },
     "output_type": "display_data"
    }
   ],
   "source": [
    "#plotting the percentage show up by hypertension\n",
    "percentage_show_plt('Hypertension')\n",
    "#getting appointment count\n",
    "pd.DataFrame(df.groupby(['Hypertension'])['No-show'].describe().loc[:,['count']])"
   ]
  },
  {
   "cell_type": "markdown",
   "metadata": {},
   "source": [
    "- Diabetes"
   ]
  },
  {
   "cell_type": "code",
   "execution_count": 310,
   "metadata": {},
   "outputs": [
    {
     "data": {
      "text/html": [
       "<div>\n",
       "<style scoped>\n",
       "    .dataframe tbody tr th:only-of-type {\n",
       "        vertical-align: middle;\n",
       "    }\n",
       "\n",
       "    .dataframe tbody tr th {\n",
       "        vertical-align: top;\n",
       "    }\n",
       "\n",
       "    .dataframe thead th {\n",
       "        text-align: right;\n",
       "    }\n",
       "</style>\n",
       "<table border=\"1\" class=\"dataframe\">\n",
       "  <thead>\n",
       "    <tr style=\"text-align: right;\">\n",
       "      <th></th>\n",
       "      <th>count</th>\n",
       "    </tr>\n",
       "    <tr>\n",
       "      <th>Diabetes</th>\n",
       "      <th></th>\n",
       "    </tr>\n",
       "  </thead>\n",
       "  <tbody>\n",
       "    <tr>\n",
       "      <th>0</th>\n",
       "      <td>102579</td>\n",
       "    </tr>\n",
       "    <tr>\n",
       "      <th>1</th>\n",
       "      <td>7943</td>\n",
       "    </tr>\n",
       "  </tbody>\n",
       "</table>\n",
       "</div>"
      ],
      "text/plain": [
       "           count\n",
       "Diabetes        \n",
       "0         102579\n",
       "1           7943"
      ]
     },
     "execution_count": 310,
     "metadata": {},
     "output_type": "execute_result"
    },
    {
     "data": {
      "image/png": "[encoded data removed]",
      "text/plain": [
       "<Figure size 1296x720 with 1 Axes>"
      ]
     },
     "metadata": {
      "needs_background": "light"
     },
     "output_type": "display_data"
    }
   ],
   "source": [
    "#plotting percentage show up by diabetes\n",
    "percentage_show_plt('Diabetes')\n",
    "#getting appointment count\n",
    "pd.DataFrame(df.groupby(['Diabetes'])['No-show'].describe().loc[:,['count']])"
   ]
  },
  {
   "cell_type": "markdown",
   "metadata": {},
   "source": [
    "- Alcoholism"
   ]
  },
  {
   "cell_type": "code",
   "execution_count": 312,
   "metadata": {
    "scrolled": true
   },
   "outputs": [
    {
     "data": {
      "text/html": [
       "<div>\n",
       "<style scoped>\n",
       "    .dataframe tbody tr th:only-of-type {\n",
       "        vertical-align: middle;\n",
       "    }\n",
       "\n",
       "    .dataframe tbody tr th {\n",
       "        vertical-align: top;\n",
       "    }\n",
       "\n",
       "    .dataframe thead th {\n",
       "        text-align: right;\n",
       "    }\n",
       "</style>\n",
       "<table border=\"1\" class=\"dataframe\">\n",
       "  <thead>\n",
       "    <tr style=\"text-align: right;\">\n",
       "      <th></th>\n",
       "      <th>count</th>\n",
       "    </tr>\n",
       "    <tr>\n",
       "      <th>Alcoholism</th>\n",
       "      <th></th>\n",
       "    </tr>\n",
       "  </thead>\n",
       "  <tbody>\n",
       "    <tr>\n",
       "      <th>0</th>\n",
       "      <td>107162</td>\n",
       "    </tr>\n",
       "    <tr>\n",
       "      <th>1</th>\n",
       "      <td>3360</td>\n",
       "    </tr>\n",
       "  </tbody>\n",
       "</table>\n",
       "</div>"
      ],
      "text/plain": [
       "             count\n",
       "Alcoholism        \n",
       "0           107162\n",
       "1             3360"
      ]
     },
     "execution_count": 312,
     "metadata": {},
     "output_type": "execute_result"
    },
    {
     "data": {
      "image/png": "[encoded data removed]",
      "text/plain": [
       "<Figure size 1296x720 with 1 Axes>"
      ]
     },
     "metadata": {
      "needs_background": "light"
     },
     "output_type": "display_data"
    }
   ],
   "source": [
    "#plotting the percentage show up by alcoholism\n",
    "percentage_show_plt('Alcoholism')\n",
    "#getting appointment count\n",
    "pd.DataFrame(df.groupby(['Alcoholism'])['No-show'].describe().loc[:,['count']])\n"
   ]
  },
  {
   "cell_type": "markdown",
   "metadata": {},
   "source": [
    "Now we will proceed by checking the relationship between the various conditions."
   ]
  },
  {
   "cell_type": "code",
   "execution_count": 316,
   "metadata": {},
   "outputs": [
    {
     "data": {
      "text/html": [
       "<div>\n",
       "<style scoped>\n",
       "    .dataframe tbody tr th:only-of-type {\n",
       "        vertical-align: middle;\n",
       "    }\n",
       "\n",
       "    .dataframe tbody tr th {\n",
       "        vertical-align: top;\n",
       "    }\n",
       "\n",
       "    .dataframe thead th {\n",
       "        text-align: right;\n",
       "    }\n",
       "</style>\n",
       "<table border=\"1\" class=\"dataframe\">\n",
       "  <thead>\n",
       "    <tr style=\"text-align: right;\">\n",
       "      <th></th>\n",
       "      <th>Age</th>\n",
       "      <th>Scholarship</th>\n",
       "      <th>Hypertension</th>\n",
       "      <th>Diabetes</th>\n",
       "      <th>Alcoholism</th>\n",
       "      <th>Handicap</th>\n",
       "      <th>SMS_received</th>\n",
       "    </tr>\n",
       "  </thead>\n",
       "  <tbody>\n",
       "    <tr>\n",
       "      <th>count</th>\n",
       "      <td>256.000000</td>\n",
       "      <td>256.000000</td>\n",
       "      <td>256.0</td>\n",
       "      <td>256.0</td>\n",
       "      <td>256.0</td>\n",
       "      <td>256.000000</td>\n",
       "      <td>256.000000</td>\n",
       "    </tr>\n",
       "    <tr>\n",
       "      <th>mean</th>\n",
       "      <td>58.812500</td>\n",
       "      <td>0.078125</td>\n",
       "      <td>1.0</td>\n",
       "      <td>1.0</td>\n",
       "      <td>1.0</td>\n",
       "      <td>0.054688</td>\n",
       "      <td>0.304688</td>\n",
       "    </tr>\n",
       "    <tr>\n",
       "      <th>std</th>\n",
       "      <td>10.091542</td>\n",
       "      <td>0.268894</td>\n",
       "      <td>0.0</td>\n",
       "      <td>0.0</td>\n",
       "      <td>0.0</td>\n",
       "      <td>0.244423</td>\n",
       "      <td>0.461177</td>\n",
       "    </tr>\n",
       "    <tr>\n",
       "      <th>min</th>\n",
       "      <td>28.000000</td>\n",
       "      <td>0.000000</td>\n",
       "      <td>1.0</td>\n",
       "      <td>1.0</td>\n",
       "      <td>1.0</td>\n",
       "      <td>0.000000</td>\n",
       "      <td>0.000000</td>\n",
       "    </tr>\n",
       "    <tr>\n",
       "      <th>25%</th>\n",
       "      <td>53.000000</td>\n",
       "      <td>0.000000</td>\n",
       "      <td>1.0</td>\n",
       "      <td>1.0</td>\n",
       "      <td>1.0</td>\n",
       "      <td>0.000000</td>\n",
       "      <td>0.000000</td>\n",
       "    </tr>\n",
       "    <tr>\n",
       "      <th>50%</th>\n",
       "      <td>59.000000</td>\n",
       "      <td>0.000000</td>\n",
       "      <td>1.0</td>\n",
       "      <td>1.0</td>\n",
       "      <td>1.0</td>\n",
       "      <td>0.000000</td>\n",
       "      <td>0.000000</td>\n",
       "    </tr>\n",
       "    <tr>\n",
       "      <th>75%</th>\n",
       "      <td>66.000000</td>\n",
       "      <td>0.000000</td>\n",
       "      <td>1.0</td>\n",
       "      <td>1.0</td>\n",
       "      <td>1.0</td>\n",
       "      <td>0.000000</td>\n",
       "      <td>1.000000</td>\n",
       "    </tr>\n",
       "    <tr>\n",
       "      <th>max</th>\n",
       "      <td>84.000000</td>\n",
       "      <td>1.000000</td>\n",
       "      <td>1.0</td>\n",
       "      <td>1.0</td>\n",
       "      <td>1.0</td>\n",
       "      <td>2.000000</td>\n",
       "      <td>1.000000</td>\n",
       "    </tr>\n",
       "  </tbody>\n",
       "</table>\n",
       "</div>"
      ],
      "text/plain": [
       "              Age  Scholarship  Hypertension  Diabetes  Alcoholism  \\\n",
       "count  256.000000   256.000000         256.0     256.0       256.0   \n",
       "mean    58.812500     0.078125           1.0       1.0         1.0   \n",
       "std     10.091542     0.268894           0.0       0.0         0.0   \n",
       "min     28.000000     0.000000           1.0       1.0         1.0   \n",
       "25%     53.000000     0.000000           1.0       1.0         1.0   \n",
       "50%     59.000000     0.000000           1.0       1.0         1.0   \n",
       "75%     66.000000     0.000000           1.0       1.0         1.0   \n",
       "max     84.000000     1.000000           1.0       1.0         1.0   \n",
       "\n",
       "         Handicap  SMS_received  \n",
       "count  256.000000    256.000000  \n",
       "mean     0.054688      0.304688  \n",
       "std      0.244423      0.461177  \n",
       "min      0.000000      0.000000  \n",
       "25%      0.000000      0.000000  \n",
       "50%      0.000000      0.000000  \n",
       "75%      0.000000      1.000000  \n",
       "max      2.000000      1.000000  "
      ]
     },
     "execution_count": 316,
     "metadata": {},
     "output_type": "execute_result"
    }
   ],
   "source": [
    "#checking relation ship betwwen the various conditions\n",
    "df[(df.Hypertension == 1) & (df.Diabetes == 1) & (df.Alcoholism == 1)].describe()\n"
   ]
  },
  {
   "cell_type": "markdown",
   "metadata": {},
   "source": [
    "> We see above that we have a total of 256 patients that suffer from all three diseases, now we shall check if these patients have a higher show up rate than the others or not. "
   ]
  },
  {
   "cell_type": "code",
   "execution_count": 358,
   "metadata": {},
   "outputs": [
    {
     "data": {
      "image/png": "[encoded data removed]",
      "text/plain": [
       "<Figure size 1152x864 with 1 Axes>"
      ]
     },
     "metadata": {
      "needs_background": "light"
     },
     "output_type": "display_data"
    },
    {
     "name": "stdout",
     "output_type": "stream",
     "text": [
      "Percntage show up: 82.03%\n"
     ]
    },
    {
     "data": {
      "text/html": [
       "<div>\n",
       "<style scoped>\n",
       "    .dataframe tbody tr th:only-of-type {\n",
       "        vertical-align: middle;\n",
       "    }\n",
       "\n",
       "    .dataframe tbody tr th {\n",
       "        vertical-align: top;\n",
       "    }\n",
       "\n",
       "    .dataframe thead th {\n",
       "        text-align: right;\n",
       "    }\n",
       "</style>\n",
       "<table border=\"1\" class=\"dataframe\">\n",
       "  <thead>\n",
       "    <tr style=\"text-align: right;\">\n",
       "      <th></th>\n",
       "      <th>count</th>\n",
       "      <th>unique</th>\n",
       "      <th>top</th>\n",
       "      <th>freq</th>\n",
       "    </tr>\n",
       "    <tr>\n",
       "      <th>No-show</th>\n",
       "      <th></th>\n",
       "      <th></th>\n",
       "      <th></th>\n",
       "      <th></th>\n",
       "    </tr>\n",
       "  </thead>\n",
       "  <tbody>\n",
       "    <tr>\n",
       "      <th>No</th>\n",
       "      <td>210</td>\n",
       "      <td>1</td>\n",
       "      <td>No</td>\n",
       "      <td>210</td>\n",
       "    </tr>\n",
       "    <tr>\n",
       "      <th>Yes</th>\n",
       "      <td>46</td>\n",
       "      <td>1</td>\n",
       "      <td>Yes</td>\n",
       "      <td>46</td>\n",
       "    </tr>\n",
       "  </tbody>\n",
       "</table>\n",
       "</div>"
      ],
      "text/plain": [
       "        count unique  top freq\n",
       "No-show                       \n",
       "No        210      1   No  210\n",
       "Yes        46      1  Yes   46"
      ]
     },
     "execution_count": 358,
     "metadata": {},
     "output_type": "execute_result"
    }
   ],
   "source": [
    "#creating a sub dataset for patients with all diseases\n",
    "df[(df.Hypertension == 1) & (df.Diabetes == 1) & (df.Alcoholism == 1)].to_csv('all_diseases.csv', index=False)\n",
    "#reading or new dataset\n",
    "df_all_diseases = pd.read_csv('all_diseases.csv')\n",
    "\n",
    "\n",
    "\n",
    "\n",
    "#Histogram to visualize show up rate of patients with all diseases\n",
    "plt.figure(figsize=(16,12))\n",
    "graph = sns.countplot( x=df_all_diseases.Hypertension, hue=df_all_diseases['No-show'],data=df_all_diseases)\n",
    "graph.set_title('Show and no show for patients with all diseases')\n",
    "graph.set_ylabel('Patients with all diseases')\n",
    "graph.set_xlabel('Patients with all diseases')\n",
    "plt.show()\n",
    "pd.DataFrame(df_all_diseases.groupby(['No-show'])['No-show'].describe())\n",
    "\n",
    "percent_show = df_all_diseases[df_all_diseases['No-show'] == 'No'].shape[0]/df_all_diseases['No-show'].shape[0] \n",
    "\n",
    "print('Percntage show up: {:.2f}%'.format(percent_show*100))\n",
    "pd.DataFrame(df_all_diseases.groupby(['No-show'])['No-show'].describe())"
   ]
  },
  {
   "cell_type": "markdown",
   "metadata": {},
   "source": [
    ">We confirm a relatively high show up rate in patients with all diseases.\n",
    ">\n",
    ">We shall now check if it's the case for patients with no diseases, not forgetting that our age range should be considered between 28 and 84"
   ]
  },
  {
   "cell_type": "code",
   "execution_count": 379,
   "metadata": {},
   "outputs": [
    {
     "data": {
      "text/html": [
       "<div>\n",
       "<style scoped>\n",
       "    .dataframe tbody tr th:only-of-type {\n",
       "        vertical-align: middle;\n",
       "    }\n",
       "\n",
       "    .dataframe tbody tr th {\n",
       "        vertical-align: top;\n",
       "    }\n",
       "\n",
       "    .dataframe thead th {\n",
       "        text-align: right;\n",
       "    }\n",
       "</style>\n",
       "<table border=\"1\" class=\"dataframe\">\n",
       "  <thead>\n",
       "    <tr style=\"text-align: right;\">\n",
       "      <th></th>\n",
       "      <th>Age</th>\n",
       "      <th>Scholarship</th>\n",
       "      <th>Hypertension</th>\n",
       "      <th>Diabetes</th>\n",
       "      <th>Alcoholism</th>\n",
       "      <th>Handicap</th>\n",
       "      <th>SMS_received</th>\n",
       "    </tr>\n",
       "  </thead>\n",
       "  <tbody>\n",
       "    <tr>\n",
       "      <th>count</th>\n",
       "      <td>85307.000000</td>\n",
       "      <td>85307.000000</td>\n",
       "      <td>85307.0</td>\n",
       "      <td>85307.0</td>\n",
       "      <td>85307.0</td>\n",
       "      <td>85307.000000</td>\n",
       "      <td>85307.000000</td>\n",
       "    </tr>\n",
       "    <tr>\n",
       "      <th>mean</th>\n",
       "      <td>30.612740</td>\n",
       "      <td>0.100027</td>\n",
       "      <td>0.0</td>\n",
       "      <td>0.0</td>\n",
       "      <td>0.0</td>\n",
       "      <td>0.015462</td>\n",
       "      <td>0.324721</td>\n",
       "    </tr>\n",
       "    <tr>\n",
       "      <th>std</th>\n",
       "      <td>21.099125</td>\n",
       "      <td>0.300038</td>\n",
       "      <td>0.0</td>\n",
       "      <td>0.0</td>\n",
       "      <td>0.0</td>\n",
       "      <td>0.136206</td>\n",
       "      <td>0.468273</td>\n",
       "    </tr>\n",
       "    <tr>\n",
       "      <th>min</th>\n",
       "      <td>-1.000000</td>\n",
       "      <td>0.000000</td>\n",
       "      <td>0.0</td>\n",
       "      <td>0.0</td>\n",
       "      <td>0.0</td>\n",
       "      <td>0.000000</td>\n",
       "      <td>0.000000</td>\n",
       "    </tr>\n",
       "    <tr>\n",
       "      <th>25%</th>\n",
       "      <td>13.000000</td>\n",
       "      <td>0.000000</td>\n",
       "      <td>0.0</td>\n",
       "      <td>0.0</td>\n",
       "      <td>0.0</td>\n",
       "      <td>0.000000</td>\n",
       "      <td>0.000000</td>\n",
       "    </tr>\n",
       "    <tr>\n",
       "      <th>50%</th>\n",
       "      <td>29.000000</td>\n",
       "      <td>0.000000</td>\n",
       "      <td>0.0</td>\n",
       "      <td>0.0</td>\n",
       "      <td>0.0</td>\n",
       "      <td>0.000000</td>\n",
       "      <td>0.000000</td>\n",
       "    </tr>\n",
       "    <tr>\n",
       "      <th>75%</th>\n",
       "      <td>46.000000</td>\n",
       "      <td>0.000000</td>\n",
       "      <td>0.0</td>\n",
       "      <td>0.0</td>\n",
       "      <td>0.0</td>\n",
       "      <td>0.000000</td>\n",
       "      <td>1.000000</td>\n",
       "    </tr>\n",
       "    <tr>\n",
       "      <th>max</th>\n",
       "      <td>115.000000</td>\n",
       "      <td>1.000000</td>\n",
       "      <td>0.0</td>\n",
       "      <td>0.0</td>\n",
       "      <td>0.0</td>\n",
       "      <td>4.000000</td>\n",
       "      <td>1.000000</td>\n",
       "    </tr>\n",
       "  </tbody>\n",
       "</table>\n",
       "</div>"
      ],
      "text/plain": [
       "                Age   Scholarship  Hypertension  Diabetes  Alcoholism  \\\n",
       "count  85307.000000  85307.000000       85307.0   85307.0     85307.0   \n",
       "mean      30.612740      0.100027           0.0       0.0         0.0   \n",
       "std       21.099125      0.300038           0.0       0.0         0.0   \n",
       "min       -1.000000      0.000000           0.0       0.0         0.0   \n",
       "25%       13.000000      0.000000           0.0       0.0         0.0   \n",
       "50%       29.000000      0.000000           0.0       0.0         0.0   \n",
       "75%       46.000000      0.000000           0.0       0.0         0.0   \n",
       "max      115.000000      1.000000           0.0       0.0         0.0   \n",
       "\n",
       "           Handicap  SMS_received  \n",
       "count  85307.000000  85307.000000  \n",
       "mean       0.015462      0.324721  \n",
       "std        0.136206      0.468273  \n",
       "min        0.000000      0.000000  \n",
       "25%        0.000000      0.000000  \n",
       "50%        0.000000      0.000000  \n",
       "75%        0.000000      1.000000  \n",
       "max        4.000000      1.000000  "
      ]
     },
     "execution_count": 379,
     "metadata": {},
     "output_type": "execute_result"
    }
   ],
   "source": [
    "#Getting description of dataset of patients with no diseases\n",
    "df[(df.Hypertension == 0) & (df.Diabetes == 0) & (df.Alcoholism == 0)].describe()"
   ]
  },
  {
   "cell_type": "code",
   "execution_count": 381,
   "metadata": {
    "scrolled": true
   },
   "outputs": [
    {
     "data": {
      "text/html": [
       "<div>\n",
       "<style scoped>\n",
       "    .dataframe tbody tr th:only-of-type {\n",
       "        vertical-align: middle;\n",
       "    }\n",
       "\n",
       "    .dataframe tbody tr th {\n",
       "        vertical-align: top;\n",
       "    }\n",
       "\n",
       "    .dataframe thead th {\n",
       "        text-align: right;\n",
       "    }\n",
       "</style>\n",
       "<table border=\"1\" class=\"dataframe\">\n",
       "  <thead>\n",
       "    <tr style=\"text-align: right;\">\n",
       "      <th></th>\n",
       "      <th>Gender</th>\n",
       "      <th>ScheduledDay</th>\n",
       "      <th>AppointmentDay</th>\n",
       "      <th>Age</th>\n",
       "      <th>Neighborhood</th>\n",
       "      <th>Scholarship</th>\n",
       "      <th>Hypertension</th>\n",
       "      <th>Diabetes</th>\n",
       "      <th>Alcoholism</th>\n",
       "      <th>Handicap</th>\n",
       "      <th>SMS_received</th>\n",
       "      <th>No-show</th>\n",
       "    </tr>\n",
       "  </thead>\n",
       "  <tbody>\n",
       "    <tr>\n",
       "      <th>0</th>\n",
       "      <td>M</td>\n",
       "      <td>2016-04-29</td>\n",
       "      <td>2016-04-29</td>\n",
       "      <td>56</td>\n",
       "      <td>JARDIM DA PENHA</td>\n",
       "      <td>0</td>\n",
       "      <td>0</td>\n",
       "      <td>0</td>\n",
       "      <td>0</td>\n",
       "      <td>0</td>\n",
       "      <td>0</td>\n",
       "      <td>No</td>\n",
       "    </tr>\n",
       "    <tr>\n",
       "      <th>1</th>\n",
       "      <td>F</td>\n",
       "      <td>2016-04-29</td>\n",
       "      <td>2016-04-29</td>\n",
       "      <td>62</td>\n",
       "      <td>MATA DA PRAIA</td>\n",
       "      <td>0</td>\n",
       "      <td>0</td>\n",
       "      <td>0</td>\n",
       "      <td>0</td>\n",
       "      <td>0</td>\n",
       "      <td>0</td>\n",
       "      <td>No</td>\n",
       "    </tr>\n",
       "    <tr>\n",
       "      <th>2</th>\n",
       "      <td>F</td>\n",
       "      <td>2016-04-29</td>\n",
       "      <td>2016-04-29</td>\n",
       "      <td>8</td>\n",
       "      <td>PONTAL DE CAMBURI</td>\n",
       "      <td>0</td>\n",
       "      <td>0</td>\n",
       "      <td>0</td>\n",
       "      <td>0</td>\n",
       "      <td>0</td>\n",
       "      <td>0</td>\n",
       "      <td>No</td>\n",
       "    </tr>\n",
       "    <tr>\n",
       "      <th>3</th>\n",
       "      <td>F</td>\n",
       "      <td>2016-04-27</td>\n",
       "      <td>2016-04-29</td>\n",
       "      <td>23</td>\n",
       "      <td>GOIABEIRAS</td>\n",
       "      <td>0</td>\n",
       "      <td>0</td>\n",
       "      <td>0</td>\n",
       "      <td>0</td>\n",
       "      <td>0</td>\n",
       "      <td>0</td>\n",
       "      <td>Yes</td>\n",
       "    </tr>\n",
       "    <tr>\n",
       "      <th>4</th>\n",
       "      <td>F</td>\n",
       "      <td>2016-04-27</td>\n",
       "      <td>2016-04-29</td>\n",
       "      <td>39</td>\n",
       "      <td>GOIABEIRAS</td>\n",
       "      <td>0</td>\n",
       "      <td>0</td>\n",
       "      <td>0</td>\n",
       "      <td>0</td>\n",
       "      <td>0</td>\n",
       "      <td>0</td>\n",
       "      <td>Yes</td>\n",
       "    </tr>\n",
       "  </tbody>\n",
       "</table>\n",
       "</div>"
      ],
      "text/plain": [
       "  Gender ScheduledDay AppointmentDay  Age       Neighborhood  Scholarship  \\\n",
       "0      M   2016-04-29     2016-04-29   56    JARDIM DA PENHA            0   \n",
       "1      F   2016-04-29     2016-04-29   62      MATA DA PRAIA            0   \n",
       "2      F   2016-04-29     2016-04-29    8  PONTAL DE CAMBURI            0   \n",
       "3      F   2016-04-27     2016-04-29   23         GOIABEIRAS            0   \n",
       "4      F   2016-04-27     2016-04-29   39         GOIABEIRAS            0   \n",
       "\n",
       "   Hypertension  Diabetes  Alcoholism  Handicap  SMS_received No-show  \n",
       "0             0         0           0         0             0      No  \n",
       "1             0         0           0         0             0      No  \n",
       "2             0         0           0         0             0      No  \n",
       "3             0         0           0         0             0     Yes  \n",
       "4             0         0           0         0             0     Yes  "
      ]
     },
     "execution_count": 381,
     "metadata": {},
     "output_type": "execute_result"
    }
   ],
   "source": [
    "#we shall first trim this data into a new data set, by saving the dataset without diseases\n",
    "df[(df.Hypertension == 0) & (df.Diabetes == 0) & (df.Alcoholism == 0)].to_csv('no_disease.csv',index=False)\n",
    "\n",
    "#reading the new dataset\n",
    "df_nd = pd.read_csv('no_disease.csv')\n",
    "\n",
    "#taking a look at the data\n",
    "df_nd.head()"
   ]
  },
  {
   "cell_type": "markdown",
   "metadata": {},
   "source": [
    "We shall now select all rows that has age between 28 and 84 "
   ]
  },
  {
   "cell_type": "code",
   "execution_count": 384,
   "metadata": {
    "scrolled": true
   },
   "outputs": [
    {
     "data": {
      "text/html": [
       "<div>\n",
       "<style scoped>\n",
       "    .dataframe tbody tr th:only-of-type {\n",
       "        vertical-align: middle;\n",
       "    }\n",
       "\n",
       "    .dataframe tbody tr th {\n",
       "        vertical-align: top;\n",
       "    }\n",
       "\n",
       "    .dataframe thead th {\n",
       "        text-align: right;\n",
       "    }\n",
       "</style>\n",
       "<table border=\"1\" class=\"dataframe\">\n",
       "  <thead>\n",
       "    <tr style=\"text-align: right;\">\n",
       "      <th></th>\n",
       "      <th>Age</th>\n",
       "      <th>Scholarship</th>\n",
       "      <th>Hypertension</th>\n",
       "      <th>Diabetes</th>\n",
       "      <th>Alcoholism</th>\n",
       "      <th>Handicap</th>\n",
       "      <th>SMS_received</th>\n",
       "    </tr>\n",
       "  </thead>\n",
       "  <tbody>\n",
       "    <tr>\n",
       "      <th>count</th>\n",
       "      <td>44005.000000</td>\n",
       "      <td>44005.000000</td>\n",
       "      <td>44005.0</td>\n",
       "      <td>44005.0</td>\n",
       "      <td>44005.0</td>\n",
       "      <td>44005.000000</td>\n",
       "      <td>44005.000000</td>\n",
       "    </tr>\n",
       "    <tr>\n",
       "      <th>mean</th>\n",
       "      <td>46.957437</td>\n",
       "      <td>0.090808</td>\n",
       "      <td>0.0</td>\n",
       "      <td>0.0</td>\n",
       "      <td>0.0</td>\n",
       "      <td>0.018521</td>\n",
       "      <td>0.339961</td>\n",
       "    </tr>\n",
       "    <tr>\n",
       "      <th>std</th>\n",
       "      <td>13.369701</td>\n",
       "      <td>0.287339</td>\n",
       "      <td>0.0</td>\n",
       "      <td>0.0</td>\n",
       "      <td>0.0</td>\n",
       "      <td>0.145057</td>\n",
       "      <td>0.473701</td>\n",
       "    </tr>\n",
       "    <tr>\n",
       "      <th>min</th>\n",
       "      <td>28.000000</td>\n",
       "      <td>0.000000</td>\n",
       "      <td>0.0</td>\n",
       "      <td>0.0</td>\n",
       "      <td>0.0</td>\n",
       "      <td>0.000000</td>\n",
       "      <td>0.000000</td>\n",
       "    </tr>\n",
       "    <tr>\n",
       "      <th>25%</th>\n",
       "      <td>36.000000</td>\n",
       "      <td>0.000000</td>\n",
       "      <td>0.0</td>\n",
       "      <td>0.0</td>\n",
       "      <td>0.0</td>\n",
       "      <td>0.000000</td>\n",
       "      <td>0.000000</td>\n",
       "    </tr>\n",
       "    <tr>\n",
       "      <th>50%</th>\n",
       "      <td>45.000000</td>\n",
       "      <td>0.000000</td>\n",
       "      <td>0.0</td>\n",
       "      <td>0.0</td>\n",
       "      <td>0.0</td>\n",
       "      <td>0.000000</td>\n",
       "      <td>0.000000</td>\n",
       "    </tr>\n",
       "    <tr>\n",
       "      <th>75%</th>\n",
       "      <td>56.000000</td>\n",
       "      <td>0.000000</td>\n",
       "      <td>0.0</td>\n",
       "      <td>0.0</td>\n",
       "      <td>0.0</td>\n",
       "      <td>0.000000</td>\n",
       "      <td>1.000000</td>\n",
       "    </tr>\n",
       "    <tr>\n",
       "      <th>max</th>\n",
       "      <td>84.000000</td>\n",
       "      <td>1.000000</td>\n",
       "      <td>0.0</td>\n",
       "      <td>0.0</td>\n",
       "      <td>0.0</td>\n",
       "      <td>3.000000</td>\n",
       "      <td>1.000000</td>\n",
       "    </tr>\n",
       "  </tbody>\n",
       "</table>\n",
       "</div>"
      ],
      "text/plain": [
       "                Age   Scholarship  Hypertension  Diabetes  Alcoholism  \\\n",
       "count  44005.000000  44005.000000       44005.0   44005.0     44005.0   \n",
       "mean      46.957437      0.090808           0.0       0.0         0.0   \n",
       "std       13.369701      0.287339           0.0       0.0         0.0   \n",
       "min       28.000000      0.000000           0.0       0.0         0.0   \n",
       "25%       36.000000      0.000000           0.0       0.0         0.0   \n",
       "50%       45.000000      0.000000           0.0       0.0         0.0   \n",
       "75%       56.000000      0.000000           0.0       0.0         0.0   \n",
       "max       84.000000      1.000000           0.0       0.0         0.0   \n",
       "\n",
       "           Handicap  SMS_received  \n",
       "count  44005.000000  44005.000000  \n",
       "mean       0.018521      0.339961  \n",
       "std        0.145057      0.473701  \n",
       "min        0.000000      0.000000  \n",
       "25%        0.000000      0.000000  \n",
       "50%        0.000000      0.000000  \n",
       "75%        0.000000      1.000000  \n",
       "max        3.000000      1.000000  "
      ]
     },
     "execution_count": 384,
     "metadata": {},
     "output_type": "execute_result"
    }
   ],
   "source": [
    "#Selecting ages between 28 and 84\n",
    "df_nd = df_nd[(df_nd.Age >= 28) & (df_nd.Age <= 84)]\n",
    "\n",
    "#getting statistical description of dataset\n",
    "df_nd.describe()"
   ]
  },
  {
   "cell_type": "markdown",
   "metadata": {},
   "source": [
    "Now we shall plot a histogram based on show up or not to compare with people with all diseases in same age group"
   ]
  },
  {
   "cell_type": "code",
   "execution_count": 386,
   "metadata": {},
   "outputs": [
    {
     "data": {
      "image/png": "[encoded data removed]",
      "text/plain": [
       "<Figure size 1152x864 with 1 Axes>"
      ]
     },
     "metadata": {
      "needs_background": "light"
     },
     "output_type": "display_data"
    },
    {
     "name": "stdout",
     "output_type": "stream",
     "text": [
      "Percntage show up: 80.81%\n"
     ]
    },
    {
     "data": {
      "text/html": [
       "<div>\n",
       "<style scoped>\n",
       "    .dataframe tbody tr th:only-of-type {\n",
       "        vertical-align: middle;\n",
       "    }\n",
       "\n",
       "    .dataframe tbody tr th {\n",
       "        vertical-align: top;\n",
       "    }\n",
       "\n",
       "    .dataframe thead th {\n",
       "        text-align: right;\n",
       "    }\n",
       "</style>\n",
       "<table border=\"1\" class=\"dataframe\">\n",
       "  <thead>\n",
       "    <tr style=\"text-align: right;\">\n",
       "      <th></th>\n",
       "      <th>count</th>\n",
       "      <th>unique</th>\n",
       "      <th>top</th>\n",
       "      <th>freq</th>\n",
       "    </tr>\n",
       "    <tr>\n",
       "      <th>No-show</th>\n",
       "      <th></th>\n",
       "      <th></th>\n",
       "      <th></th>\n",
       "      <th></th>\n",
       "    </tr>\n",
       "  </thead>\n",
       "  <tbody>\n",
       "    <tr>\n",
       "      <th>No</th>\n",
       "      <td>35561</td>\n",
       "      <td>1</td>\n",
       "      <td>No</td>\n",
       "      <td>35561</td>\n",
       "    </tr>\n",
       "    <tr>\n",
       "      <th>Yes</th>\n",
       "      <td>8444</td>\n",
       "      <td>1</td>\n",
       "      <td>Yes</td>\n",
       "      <td>8444</td>\n",
       "    </tr>\n",
       "  </tbody>\n",
       "</table>\n",
       "</div>"
      ],
      "text/plain": [
       "         count unique  top   freq\n",
       "No-show                          \n",
       "No       35561      1   No  35561\n",
       "Yes       8444      1  Yes   8444"
      ]
     },
     "execution_count": 386,
     "metadata": {},
     "output_type": "execute_result"
    }
   ],
   "source": [
    "#Histogram to visualize show up rate of patients with no diseases\n",
    "plt.figure(figsize=(16,12))\n",
    "graph = sns.countplot( x=df_nd.Hypertension, hue=df_nd['No-show'],data=df_nd)\n",
    "graph.set_title('Show and no show for patients with all diseases')\n",
    "graph.set_ylabel('Patients with all diseases')\n",
    "graph.set_xlabel('Patients with all diseases')\n",
    "plt.show()\n",
    "pd.DataFrame(df_nd.groupby(['No-show'])['No-show'].describe())\n",
    "\n",
    "percent_show = df_nd[df_nd['No-show'] == 'No'].shape[0]/df_nd['No-show'].shape[0] \n",
    "\n",
    "print('Percntage show up: {:.2f}%'.format(percent_show*100))\n",
    "pd.DataFrame(df_nd.groupby(['No-show'])['No-show'].describe())"
   ]
  },
  {
   "cell_type": "markdown",
   "metadata": {},
   "source": [
    "### Research Question 7(is there any measure difference in showing up between patients who received and SMS and those who didn't?)\n",
    ">To investigate this, we will just plot a similar percentage show up against receiving an sms and not receiving."
   ]
  },
  {
   "cell_type": "code",
   "execution_count": 393,
   "metadata": {
    "scrolled": true
   },
   "outputs": [
    {
     "data": {
      "text/html": [
       "<div>\n",
       "<style scoped>\n",
       "    .dataframe tbody tr th:only-of-type {\n",
       "        vertical-align: middle;\n",
       "    }\n",
       "\n",
       "    .dataframe tbody tr th {\n",
       "        vertical-align: top;\n",
       "    }\n",
       "\n",
       "    .dataframe thead th {\n",
       "        text-align: right;\n",
       "    }\n",
       "</style>\n",
       "<table border=\"1\" class=\"dataframe\">\n",
       "  <thead>\n",
       "    <tr style=\"text-align: right;\">\n",
       "      <th></th>\n",
       "      <th>count</th>\n",
       "      <th>mean</th>\n",
       "      <th>std</th>\n",
       "      <th>min</th>\n",
       "      <th>25%</th>\n",
       "      <th>50%</th>\n",
       "      <th>75%</th>\n",
       "      <th>max</th>\n",
       "    </tr>\n",
       "    <tr>\n",
       "      <th>No-show</th>\n",
       "      <th></th>\n",
       "      <th></th>\n",
       "      <th></th>\n",
       "      <th></th>\n",
       "      <th></th>\n",
       "      <th></th>\n",
       "      <th></th>\n",
       "      <th></th>\n",
       "    </tr>\n",
       "  </thead>\n",
       "  <tbody>\n",
       "    <tr>\n",
       "      <th>No</th>\n",
       "      <td>88208.0</td>\n",
       "      <td>0.291334</td>\n",
       "      <td>0.454380</td>\n",
       "      <td>0.0</td>\n",
       "      <td>0.0</td>\n",
       "      <td>0.0</td>\n",
       "      <td>1.0</td>\n",
       "      <td>1.0</td>\n",
       "    </tr>\n",
       "    <tr>\n",
       "      <th>Yes</th>\n",
       "      <td>22314.0</td>\n",
       "      <td>0.438469</td>\n",
       "      <td>0.496211</td>\n",
       "      <td>0.0</td>\n",
       "      <td>0.0</td>\n",
       "      <td>0.0</td>\n",
       "      <td>1.0</td>\n",
       "      <td>1.0</td>\n",
       "    </tr>\n",
       "  </tbody>\n",
       "</table>\n",
       "</div>"
      ],
      "text/plain": [
       "           count      mean       std  min  25%  50%  75%  max\n",
       "No-show                                                      \n",
       "No       88208.0  0.291334  0.454380  0.0  0.0  0.0  1.0  1.0\n",
       "Yes      22314.0  0.438469  0.496211  0.0  0.0  0.0  1.0  1.0"
      ]
     },
     "execution_count": 393,
     "metadata": {},
     "output_type": "execute_result"
    },
    {
     "data": {
      "image/png": "[encoded data removed]",
      "text/plain": [
       "<Figure size 1296x720 with 1 Axes>"
      ]
     },
     "metadata": {
      "needs_background": "light"
     },
     "output_type": "display_data"
    }
   ],
   "source": [
    "#plotting the percentage show up by SMS receoived\n",
    "percentage_show_plt('SMS_received')\n",
    "pd.DataFrame(df.groupby(['No-show'])['SMS_received'].describe())"
   ]
  },
  {
   "cell_type": "markdown",
   "metadata": {},
   "source": [
    "We shall then take a look at the appointment count for SMS_received inother to have a clearer idea if sms recieved affects the show uprate"
   ]
  },
  {
   "cell_type": "code",
   "execution_count": 299,
   "metadata": {},
   "outputs": [
    {
     "data": {
      "image/png": "[encoded data removed]",
      "text/plain": [
       "<Figure size 1152x864 with 1 Axes>"
      ]
     },
     "metadata": {
      "needs_background": "light"
     },
     "output_type": "display_data"
    }
   ],
   "source": [
    "plt.figure(figsize=(16,12))\n",
    "graph = sns.countplot(x=df.SMS_received, hue=df['No-show'],data=df)\n",
    "graph.set_title('Show and no show for SMS_received')\n",
    "label=['SMS not received','SMS received']\n",
    "graph.set_xticklabels(label)\n",
    "plt.show()"
   ]
  },
  {
   "cell_type": "markdown",
   "metadata": {},
   "source": [
    "<a id='conclusions'></a>\n",
    "## Conclusions\n",
    "\n",
    "\n",
    ">- First, concerning gender and show up rate, we first calculated the show up rate for male and female. the reason is to compare if this individual rates show any measure difference, which will imply that the independent variable gender, plays a huge role in a client showing up or not. But both male and female show up rate was about 80% implying that gender doesn't really determing if a client will show up or note.\n",
    "\n",
    ">- Secondly, concerning the waiting time and show up rate, we calculated the show up rate based on waiting days and  it could be noticed that the show up rate was higher for appointments made on the same day followed by 1,2,3 and 4, so we can conclude that the lower the waiting time, the higher are the chances of the client showing up.\n",
    "\n",
    ">- Thirdly, with regards to patients age and how it affects the patient showing up or not, we checked the showing up against not showing up ratio, and later on checked the percentage show up for the various ages, none of these could really show any significant relationship with the patient showing up or not, even with some age group having a very high show up rate. but when we plotted the boxplot, we could see that the distribution was normal in both cases, with some few outliers. As such we can't conclude that age is of any measure influence in determining whether or not a patient will show up.\n",
    "\n",
    ">- fourthly, we computed the percentage show up by neighbour hood, and the percentage show up by neighborhoods tend to be uniformly high for all neigborhoods, as such neigborhood isn't much of a key determining factor of if patients will show up or not.\n",
    "\n",
    ">- Also, we computed percentage show up by handicap and noticed that The handicap feature varies a little bit so we can say to some extend that handicap can determine if a patient will show up or not.\n",
    "\n",
    ">- We visualised the show up percentage for independent variables; hypertension, diabetes and alcoholism and clearly notice that patients with hypertension and diabetes showed up more, relative to those without. But for alcoholism, there's no measure difference. we futher computed the show up percentage for age group 28 to 84 for patients who have all three conditions and those without any and our results was 82% show up and 80% show up respectively, hence we can say a patient with all 3 conditions has a higher probability of showing up.\n",
    "\n",
    ">- Last, from our visualisations for SMS_received above, we clearly see that most patients didn't receive an SMS, yet the show up rate was high. Also  show up rate for patients who received an sms is clearly higher.\n",
    "\n",
    "> Perhaps much infomation wasn't given about an sms reception criteria, which maybe if one of these criteria was that only patients who are running late for appointment did receive an sms, then this data would have been valuable in determining if the time of reception affected the show up by patients.\n",
    "\n",
    "> In addition, these questions where analysed purely for the related independent variable's effect on a patient showing up or not, but for Question 6 where we looked at how some independent variables related to a single dependent variable and it's effect on a patient showing up or not.\n",
    "> that said, we should keep in mind that the combination of these independent variables into a single variable will in most cases affect patient's show up."
   ]
  }
 ],
 "metadata": {
  "kernelspec": {
   "display_name": "Python 3 (ipykernel)",
   "language": "python",
   "name": "python3"
  },
  "language_info": {
   "codemirror_mode": {
    "name": "ipython",
    "version": 3
   },
   "file_extension": ".py",
   "mimetype": "text/x-python",
   "name": "python",
   "nbconvert_exporter": "python",
   "pygments_lexer": "ipython3",
   "version": "3.9.12"
  }
 },
 "nbformat": 4,
 "nbformat_minor": 2
}
